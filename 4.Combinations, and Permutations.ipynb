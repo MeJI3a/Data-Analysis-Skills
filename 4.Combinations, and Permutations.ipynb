{
 "cells": [
  {
   "cell_type": "markdown",
   "id": "38b63e30-ee0c-4098-919f-126b7f7fde39",
   "metadata": {},
   "source": [
    "# 4.  Combinations, and Permutations\n",
    "\n",
    "## Overview\n",
    "This project focuses on **Combinations and Permutations**, showcasing computational techniques to analyze and interpret various groupings and orderings of dataset elements. The goal is to demonstrate skills in using Python's itertools library and other statistical methods to calculate combinations, permutations, and related metrics such as average sales, cumulative profit, and total customer count.\n",
    "\n",
    "## Key Topics\n",
    "- **Combinations Analysis**: Evaluating different combinations of data (e.g., days, customers) and calculating associated metrics.\n",
    "- **Permutations Analysis**: Exploring the effect of different orderings of data on cumulative metrics like profit or sales.\n",
    "- **Customer Groupings**: Investigating the impact of customer count groupings on profitability and sales.\n",
    "- **Optimization**: Using permutations to determine the most profitable arrangements of days or campaigns.\n",
    "\n",
    "## Techniques Used\n",
    "- **Python Libraries**: \n",
    "  - `pandas` for data manipulation.\n",
    "  - `itertools` for generating combinations and permutations.\n",
    "  - `numpy` for numerical operations.\n",
    "- **Statistical Metrics**:\n",
    "  - Mean, sum, and cumulative profit.\n",
    "  - Filtering data based on customer groups or specific conditions.\n",
    "- **Optimization Logic**:\n",
    "  - Identifying the best permutation for maximum cumulative profit.\n",
    "\n",
    "---"
   ]
  },
  {
   "cell_type": "code",
   "execution_count": 2,
   "id": "0a50ea2c-ff57-4dd4-a838-6f8e3a8295c8",
   "metadata": {},
   "outputs": [
    {
     "name": "stdout",
     "output_type": "stream",
     "text": [
      "        date  transactions         sales        profit  customer_count\n",
      "0 2023-01-01          1315  41900.604509  18912.743809             731\n",
      "1 2023-01-02          4465  32038.797367  15164.608433             312\n",
      "2 2023-01-03          4284  46054.127015  18502.852596             651\n",
      "3 2023-01-04          1146  37900.477039  11204.205096             678\n",
      "4 2023-01-05          2913  11012.004290   7426.890967             545\n",
      "         date  transactions         sales        profit  customer_count\n",
      "95 2023-04-06           762  40848.890171  16660.199992             136\n",
      "96 2023-04-07          4329  30615.807823   7971.934981             585\n",
      "97 2023-04-08          1932  42410.023095  17415.706865             591\n",
      "98 2023-04-09          3168  13527.452595   6794.895390             779\n",
      "99 2023-04-10          1140  21334.785420  10084.305423             864\n",
      "<class 'pandas.core.frame.DataFrame'>\n",
      "RangeIndex: 100 entries, 0 to 99\n",
      "Data columns (total 5 columns):\n",
      " #   Column          Non-Null Count  Dtype         \n",
      "---  ------          --------------  -----         \n",
      " 0   date            100 non-null    datetime64[ns]\n",
      " 1   transactions    100 non-null    int32         \n",
      " 2   sales           100 non-null    float64       \n",
      " 3   profit          100 non-null    float64       \n",
      " 4   customer_count  100 non-null    int32         \n",
      "dtypes: datetime64[ns](1), float64(2), int32(2)\n",
      "memory usage: 3.3 KB\n",
      "None\n",
      "                      date  transactions         sales        profit  \\\n",
      "count                  100    100.000000    100.000000    100.000000   \n",
      "mean   2023-02-19 12:00:00   2760.010000  30691.506136  12880.824936   \n",
      "min    2023-01-01 00:00:00    549.000000  10204.310405   5270.631250   \n",
      "25%    2023-01-25 18:00:00   1741.500000  20725.802850   9580.958836   \n",
      "50%    2023-02-19 12:00:00   2611.000000  31754.431388  12761.588929   \n",
      "75%    2023-03-16 06:00:00   3889.250000  40709.906143  16756.904980   \n",
      "max    2023-04-10 00:00:00   4975.000000  49840.717050  19975.431112   \n",
      "std                    NaN   1229.123187  11771.312074   4218.474512   \n",
      "\n",
      "       customer_count  \n",
      "count      100.000000  \n",
      "mean       546.320000  \n",
      "min        103.000000  \n",
      "25%        262.250000  \n",
      "50%        589.500000  \n",
      "75%        764.500000  \n",
      "max        994.000000  \n",
      "std        278.791544  \n"
     ]
    }
   ],
   "source": [
    "import pandas as pd\n",
    "import numpy as np\n",
    "# Create a simple dataset with date, transactions, sales, profit, and customer count\n",
    "data = {\n",
    "    'date': pd.date_range(start='2023-01-01', periods=100, freq='D'),  # Dates over 100 days\n",
    "    'transactions': np.random.randint(500, 5000, size=100),  # Random number of transactions\n",
    "    'sales': np.random.uniform(10000, 50000, size=100),  # Random sales amounts\n",
    "    'profit': np.random.uniform(5000, 20000, size=100),  # Random profit amounts\n",
    "    'customer_count': np.random.randint(100, 1000, size=100)  # Random customer count\n",
    "}\n",
    "\n",
    "# Create the DataFrame\n",
    "df = pd.DataFrame(data)\n",
    "\n",
    "# Save the data to a CSV file (optional)\n",
    "df.to_csv('store_data_with_additional_columns.csv', index=False)\n",
    "\n",
    "# Show the first few rows of the data\n",
    "print(df.head())\n",
    "print(df.tail())\n",
    "print(df.info())\n",
    "print(df.describe())"
   ]
  },
  {
   "cell_type": "markdown",
   "id": "9f69ae20-c1bc-4997-b44c-8071d5dae99b",
   "metadata": {},
   "source": [
    "### Analyzing Customer Group Combinations Based on Daily Data"
   ]
  },
  {
   "cell_type": "code",
   "execution_count": 3,
   "id": "51c0c428-ea53-4a0a-bb48-1d830a3a4e58",
   "metadata": {},
   "outputs": [
    {
     "name": "stdout",
     "output_type": "stream",
     "text": [
      "Days: (0, 1, 2), Avg Sales: 39997.84296360825, Avg Profit: 17526.73494601004\n",
      "Days: (0, 1, 3), Avg Sales: 37279.959638212706, Avg Profit: 15093.852446078186\n",
      "Days: (0, 1, 4), Avg Sales: 28317.13538879725, Avg Profit: 13834.747736581872\n",
      "Days: (0, 1, 5), Avg Sales: 36009.36832433793, Avg Profit: 15658.646405360114\n",
      "Days: (0, 1, 6), Avg Sales: 37239.14353627973, Avg Profit: 16493.834624869705\n"
     ]
    }
   ],
   "source": [
    "import itertools\n",
    "import pandas as pd\n",
    "\n",
    "# Find all possible combinations of 3 days from the dataset\n",
    "day_combinations = list(itertools.combinations(df.index, 3))\n",
    "\n",
    "# Iterate through each combination and calculate the average sales and profit for those days\n",
    "for combo in day_combinations[:5]:  # Limit output to first 5 combinations for brevity\n",
    "    days = df.loc[list(combo)]\n",
    "    avg_sales = days['sales'].mean()\n",
    "    avg_profit = days['profit'].mean()\n",
    "    print(f\"Days: {combo}, Avg Sales: {avg_sales}, Avg Profit: {avg_profit}\")"
   ]
  },
  {
   "cell_type": "markdown",
   "id": "40b70651-9696-4e70-aa11-12309ce75d47",
   "metadata": {},
   "source": [
    "### Permutations of Daily Sales Patterns"
   ]
  },
  {
   "cell_type": "code",
   "execution_count": 4,
   "id": "c640436d-f8c7-4265-bf25-6d09fabe8856",
   "metadata": {},
   "outputs": [
    {
     "name": "stdout",
     "output_type": "stream",
     "text": [
      "Sales permutation: (41900.604509024524, 32038.79736692229, 46054.127014877944, 37900.4770386913, 11012.004290444936), Cumulative Profit: 168906.010219961\n",
      "Sales permutation: (41900.604509024524, 32038.79736692229, 46054.127014877944, 11012.004290444936, 37900.4770386913), Cumulative Profit: 168906.010219961\n",
      "Sales permutation: (41900.604509024524, 32038.79736692229, 37900.4770386913, 46054.127014877944, 11012.004290444936), Cumulative Profit: 168906.010219961\n",
      "Sales permutation: (41900.604509024524, 32038.79736692229, 37900.4770386913, 11012.004290444936, 46054.127014877944), Cumulative Profit: 168906.010219961\n",
      "Sales permutation: (41900.604509024524, 32038.79736692229, 11012.004290444936, 46054.127014877944, 37900.4770386913), Cumulative Profit: 168906.010219961\n"
     ]
    }
   ],
   "source": [
    "from itertools import permutations\n",
    "\n",
    "# Select a subset of sales data for permutation (to keep it computationally manageable)\n",
    "sales_subset = df['sales'][:5]  # Taking the first 5 days of sales\n",
    "\n",
    "# Generate permutations of the sales data\n",
    "sales_permutations = list(permutations(sales_subset))\n",
    "\n",
    "# Calculate the cumulative profit for each permutation\n",
    "for perm in sales_permutations[:5]:  # Limiting to first 5 permutations for brevity\n",
    "    cumulative_profit = np.cumsum(perm)  # Calculate cumulative sum for each permutation\n",
    "    print(f\"Sales permutation: {perm}, Cumulative Profit: {cumulative_profit[-1]}\")"
   ]
  },
  {
   "cell_type": "markdown",
   "id": "258bdcfe-3713-4ebd-a2a4-a6a5b7ea9338",
   "metadata": {},
   "source": [
    "### Combinations of Marketing Campaigns and Their Impact on Sales"
   ]
  },
  {
   "cell_type": "code",
   "execution_count": 5,
   "id": "88af3a9f-b669-4c43-b39b-5433dcb10606",
   "metadata": {},
   "outputs": [
    {
     "name": "stdout",
     "output_type": "stream",
     "text": [
      "Campaign Days: (0, 1, 2, 3), Total Sales: 157894.00592951605\n",
      "Campaign Days: (0, 1, 2, 4), Total Sales: 131005.5331812697\n",
      "Campaign Days: (0, 1, 2, 5), Total Sales: 154082.23198789172\n",
      "Campaign Days: (0, 1, 2, 6), Total Sales: 157771.55762371712\n",
      "Campaign Days: (0, 1, 2, 7), Total Sales: 168020.31160141947\n"
     ]
    }
   ],
   "source": [
    "# Assume that each day has a unique marketing campaign\n",
    "campaign_combinations = list(itertools.combinations(df.index, 4))  # 4-day combinations\n",
    "\n",
    "# Analyze the sales impact for different marketing campaign combinations\n",
    "for combo in campaign_combinations[:5]:  # Limiting to the first 5 combinations\n",
    "    campaign_days = df.loc[list(combo)]\n",
    "    total_sales = campaign_days['sales'].sum()\n",
    "    print(f\"Campaign Days: {combo}, Total Sales: {total_sales}\")"
   ]
  },
  {
   "cell_type": "markdown",
   "id": "48c74b19-879c-4a85-a2fd-724e99e4e2ee",
   "metadata": {},
   "source": [
    "### Customer Count Groupings and Their Effect on Profit"
   ]
  },
  {
   "cell_type": "code",
   "execution_count": 6,
   "id": "471ff4ba-9330-431d-8169-ca02cea1d303",
   "metadata": {},
   "outputs": [
    {
     "name": "stdout",
     "output_type": "stream",
     "text": [
      "Customer Group: (731, 312, 651, 678, 545), Avg Customers: 583.4, Total Sales: 168906.010219961, Total Profit: 71211.30090115542\n",
      "Customer Group: (731, 312, 651, 678, 608), Avg Customers: 596.0, Total Sales: 191982.709026583, Total Profit: 76682.99690749016\n",
      "Customer Group: (731, 312, 651, 678, 714), Avg Customers: 617.2, Total Sales: 195672.0346624084, Total Profit: 79188.56156601892\n",
      "Customer Group: (731, 312, 651, 678, 570), Avg Customers: 588.4, Total Sales: 205920.78864011075, Total Profit: 74470.36326895427\n",
      "Customer Group: (731, 312, 651, 678, 693), Avg Customers: 613.0, Total Sales: 183714.94009665918, Total Profit: 82987.34381623668\n"
     ]
    }
   ],
   "source": [
    "# Analyze the effect of different customer groupings (using combinations)\n",
    "customer_combinations = list(itertools.combinations(df['customer_count'], 5))  # 5-customer combinations\n",
    "\n",
    "# Calculate the profit and sales for different customer groupings\n",
    "for combo in customer_combinations[:5]:  # Limiting to first 5 combinations\n",
    "    avg_customers = np.mean(combo)\n",
    "    related_days = df[df['customer_count'].isin(combo)]\n",
    "    total_sales = related_days['sales'].sum()\n",
    "    total_profit = related_days['profit'].sum()\n",
    "    print(f\"Customer Group: {combo}, Avg Customers: {avg_customers}, Total Sales: {total_sales}, Total Profit: {total_profit}\")"
   ]
  },
  {
   "cell_type": "markdown",
   "id": "a2273054-9e18-4ff1-ae84-16d9b5a60439",
   "metadata": {},
   "source": [
    "### Store Optimizer - Find the Best Days for Maximum Profit"
   ]
  },
  {
   "cell_type": "code",
   "execution_count": 7,
   "id": "ab894111-c223-40bd-9405-1bb04a8bce64",
   "metadata": {},
   "outputs": [
    {
     "name": "stdout",
     "output_type": "stream",
     "text": [
      "Best permutation of days: (0, 1, 2, 3, 4)\n",
      "Maximum cumulative profit: 71211.30090115542\n",
      "\n",
      "Details of best permutation days:\n",
      "        date  transactions         sales        profit  customer_count\n",
      "0 2023-01-01          1315  41900.604509  18912.743809             731\n",
      "1 2023-01-02          4465  32038.797367  15164.608433             312\n",
      "2 2023-01-03          4284  46054.127015  18502.852596             651\n",
      "3 2023-01-04          1146  37900.477039  11204.205096             678\n",
      "4 2023-01-05          2913  11012.004290   7426.890967             545\n"
     ]
    }
   ],
   "source": [
    "# Select a subset of days for which we will calculate the permutations\n",
    "subset_df = df.head(5)  # Taking the first 5 days for example\n",
    "\n",
    "# Generate permutations of the subset of days\n",
    "day_permutations = list(permutations(subset_df.index, len(subset_df)))\n",
    "\n",
    "# Create a variable to store the best permutation and the maximum cumulative profit\n",
    "best_permutation = None\n",
    "max_cumulative_profit = 0\n",
    "\n",
    "# Iterate through each permutation\n",
    "for perm in day_permutations:\n",
    "    # Get the corresponding rows for the current permutation\n",
    "    permuted_days = subset_df.loc[list(perm)]\n",
    "    \n",
    "    # Calculate the cumulative profit for the current permutation\n",
    "    cumulative_profit = permuted_days['profit'].sum()\n",
    "    \n",
    "    # Check if the current permutation gives a higher cumulative profit\n",
    "    if cumulative_profit > max_cumulative_profit:\n",
    "        max_cumulative_profit = cumulative_profit\n",
    "        best_permutation = perm\n",
    "\n",
    "# Output the best permutation and the maximum cumulative profit\n",
    "print(f\"Best permutation of days: {best_permutation}\")\n",
    "print(f\"Maximum cumulative profit: {max_cumulative_profit}\")\n",
    "\n",
    "# Display the details of the best permutation days\n",
    "print(\"\\nDetails of best permutation days:\")\n",
    "print(subset_df.loc[list(best_permutation)])"
   ]
  },
  {
   "cell_type": "markdown",
   "id": "6bd9574b-a804-4c39-a6a6-fd20b3cf6200",
   "metadata": {},
   "source": [
    "# Output\n",
    "\n",
    "```plaintext\n",
    "- Created combinations of days using Python itertools.combinations.\n",
    "- Calculated averages (mean) of sales and profits for selected combinations.\n",
    "- Generated permutations of daily sales patterns using `itertools.permutations`.\n",
    "- Computed cumulative profit for each permutation.\n",
    "- Analyzed combinations of marketing campaigns using daily data.\n",
    "- Evaluated sales and profit impact for selected marketing campaign combinations.\n",
    "- Grouped customer counts using combinations and calculated total sales and profits.\n",
    "- Found optimal days for maximum profit by generating permutations of daily data.\n",
    "- Used subset filtering to manage data for computationally intensive tasks like permutations and combinations.\n"
   ]
  },
  {
   "cell_type": "code",
   "execution_count": null,
   "id": "a7c92d15-b41a-4b5f-af31-f064c0a4af4d",
   "metadata": {},
   "outputs": [],
   "source": []
  }
 ],
 "metadata": {
  "kernelspec": {
   "display_name": "Python 3 (ipykernel)",
   "language": "python",
   "name": "python3"
  },
  "language_info": {
   "codemirror_mode": {
    "name": "ipython",
    "version": 3
   },
   "file_extension": ".py",
   "mimetype": "text/x-python",
   "name": "python",
   "nbconvert_exporter": "python",
   "pygments_lexer": "ipython3",
   "version": "3.12.5"
  }
 },
 "nbformat": 4,
 "nbformat_minor": 5
}
