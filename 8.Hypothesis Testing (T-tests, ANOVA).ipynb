{
 "cells": [
  {
   "cell_type": "markdown",
   "id": "55c172bb-fcc4-4ec4-bf7a-ccfa4edaa8eb",
   "metadata": {},
   "source": [
    "# 8. Hypothesis Testing (T-tests, ANOVA): \n",
    "#### **Introduction**\n",
    "This project applies hypothesis testing techniques, including T-tests and ANOVA, to analyze datasets for statistical relationships. The goal is to explore whether differences in group means are statistically significant, using two datasets: customer shopping data and synthetic transaction data.\n",
    "\n",
    "#### **Objectives**\n",
    "1. **T-Test**: Compare the means of two groups (e.g., gender, transaction volume) to identify significant differences.\n",
    "2. **ANOVA**: Analyze variance among three or more groups (e.g., shopping malls, customer categories) to detect significant mean differences.\n",
    "3. Summarize findings and evaluate their implications.\n",
    "\n",
    "---"
   ]
  },
  {
   "cell_type": "code",
   "execution_count": 1,
   "id": "87a11be1-9f62-4f3e-9756-67610d8a356c",
   "metadata": {},
   "outputs": [
    {
     "name": "stdout",
     "output_type": "stream",
     "text": [
      "  invoice_no customer_id  gender  age  category  quantity    price  \\\n",
      "0    I138884     C241288  Female   28  Clothing         5  1500.40   \n",
      "1    I317333     C111565    Male   21     Shoes         3  1800.51   \n",
      "2    I127801     C266599    Male   20  Clothing         1   300.08   \n",
      "3    I337046     C189076  Female   53     Books         4    60.60   \n",
      "4    I227836     C657758  Female   28  Clothing         5  1500.40   \n",
      "\n",
      "  payment_method invoice_date   shopping_mall  \n",
      "0    Credit Card   2022-08-05          Kanyon  \n",
      "1     Debit Card   2021-12-12  Forum Istanbul  \n",
      "2           Cash   2021-11-09       Metrocity  \n",
      "3           Cash   2021-10-24          Kanyon  \n",
      "4    Credit Card   2022-05-24  Forum Istanbul  \n"
     ]
    }
   ],
   "source": [
    "import pandas as pd\n",
    "import numpy as np\n",
    "df = pd.read_csv(r\"C:\\Users\\Zana\\Desktop\\portfolio_projects\\project_1\\cleaned_customer_shopping_data.csv\")\n",
    "print(df.head())"
   ]
  },
  {
   "cell_type": "markdown",
   "id": "74e175ee-5875-4cf4-a4de-f6124e7b86a9",
   "metadata": {},
   "source": [
    "- T-tests are used when comparing the means of two groups to see if they are significantly different from each other."
   ]
  },
  {
   "cell_type": "markdown",
   "id": "450c5e58-bffd-465c-bdb9-456bcb2298aa",
   "metadata": {},
   "source": [
    "- ANOVA (Analysis of Variance) is used when you want to compare the means of three or more groups."
   ]
  },
  {
   "cell_type": "code",
   "execution_count": 2,
   "id": "66f1df8c-513f-47d1-ba29-73e1536a9246",
   "metadata": {},
   "outputs": [
    {
     "name": "stdout",
     "output_type": "stream",
     "text": [
      "T-test results: t-statistic = -0.07644059594288087, p-value = 0.939068735114279\n",
      "ANOVA results: F-statistic = 0.4822743311412417, p-value = 0.8876054043690432\n"
     ]
    }
   ],
   "source": [
    "from scipy import stats\n",
    "# Step 1: T-test for Quantity between Male and Female\n",
    "# Group data by gender\n",
    "male_quantity = df[df['gender'] == 'Male']['quantity']\n",
    "female_quantity = df[df['gender'] == 'Female']['quantity']\n",
    "\n",
    "# Perform independent T-test\n",
    "t_stat, p_value_ttest = stats.ttest_ind(male_quantity, female_quantity)\n",
    "\n",
    "# Step 2: ANOVA for Price across Shopping Malls\n",
    "# Group data by shopping mall\n",
    "mall_groups = [group['price'].values for name, group in df.groupby('shopping_mall')]\n",
    "\n",
    "# Perform one-way ANOVA\n",
    "f_stat, p_value_anova = stats.f_oneway(*mall_groups)\n",
    "\n",
    "# Output the results\n",
    "print(f\"T-test results: t-statistic = {t_stat}, p-value = {p_value_ttest}\")\n",
    "print(f\"ANOVA results: F-statistic = {f_stat}, p-value = {p_value_anova}\")"
   ]
  },
  {
   "cell_type": "markdown",
   "id": "e4b3012a-f905-4592-bd3d-c18eb931371f",
   "metadata": {},
   "source": [
    "# Hypothesis Testing Summary\n",
    "\n",
    "## 1. T-Test Results: Comparing Quantity of Items Purchased by Gender\n",
    "- **t-statistic**: -0.076\n",
    "- **p-value**: 0.939\n",
    "\n",
    "### Conclusion:\n",
    "The p-value is much greater than the common significance level of 0.05, so we **fail to reject the null hypothesis**. This indicates that there is no statistically significant difference in the average quantity of items purchased between Male and Female customers. The means for both genders are quite similar.\n",
    "\n",
    "---\n",
    "\n",
    "## 2. ANOVA Results: Comparing Prices Across Shopping Malls\n",
    "- **F-statistic**: 0.482\n",
    "- **p-value**: 0.888\n",
    "\n",
    "### Conclusion:\n",
    "The p-value is greater than 0.05, so we **fail to reject the null hypothesis**. This means there is no statistically significant difference in the average price of items purchased across the different shopping malls. The average prices are similar among the malls.\n",
    "\n",
    "---\n",
    "\n",
    "## Overall Findings:\n",
    "- There is no significant difference in the quantity of items purchased by Male vs. Female customers.\n",
    "- There is no significant difference in the average price of items purchased across the shopping malls.\n",
    "\n",
    "These results suggest that neither gender nor shopping mall is a significant factor in determining the quantity of items purchased or the price paid by customers."
   ]
  },
  {
   "cell_type": "code",
   "execution_count": 7,
   "id": "b00c3f3d-c1ea-46f8-b20d-d37612cf70b9",
   "metadata": {},
   "outputs": [
    {
     "data": {
      "text/html": [
       "<div>\n",
       "<style scoped>\n",
       "    .dataframe tbody tr th:only-of-type {\n",
       "        vertical-align: middle;\n",
       "    }\n",
       "\n",
       "    .dataframe tbody tr th {\n",
       "        vertical-align: top;\n",
       "    }\n",
       "\n",
       "    .dataframe thead th {\n",
       "        text-align: right;\n",
       "    }\n",
       "</style>\n",
       "<table border=\"1\" class=\"dataframe\">\n",
       "  <thead>\n",
       "    <tr style=\"text-align: right;\">\n",
       "      <th></th>\n",
       "      <th>date</th>\n",
       "      <th>transactions</th>\n",
       "      <th>sales</th>\n",
       "      <th>profit</th>\n",
       "      <th>customer_count</th>\n",
       "    </tr>\n",
       "  </thead>\n",
       "  <tbody>\n",
       "    <tr>\n",
       "      <th>0</th>\n",
       "      <td>2023-01-01</td>\n",
       "      <td>3387</td>\n",
       "      <td>28307.069479</td>\n",
       "      <td>16564.098541</td>\n",
       "      <td>784</td>\n",
       "    </tr>\n",
       "    <tr>\n",
       "      <th>1</th>\n",
       "      <td>2023-01-02</td>\n",
       "      <td>1696</td>\n",
       "      <td>47301.190844</td>\n",
       "      <td>17075.066212</td>\n",
       "      <td>195</td>\n",
       "    </tr>\n",
       "    <tr>\n",
       "      <th>2</th>\n",
       "      <td>2023-01-03</td>\n",
       "      <td>3367</td>\n",
       "      <td>29440.087996</td>\n",
       "      <td>12432.529834</td>\n",
       "      <td>496</td>\n",
       "    </tr>\n",
       "    <tr>\n",
       "      <th>3</th>\n",
       "      <td>2023-01-04</td>\n",
       "      <td>3489</td>\n",
       "      <td>32946.090802</td>\n",
       "      <td>10153.539943</td>\n",
       "      <td>126</td>\n",
       "    </tr>\n",
       "    <tr>\n",
       "      <th>4</th>\n",
       "      <td>2023-01-05</td>\n",
       "      <td>2288</td>\n",
       "      <td>31531.459852</td>\n",
       "      <td>10778.531431</td>\n",
       "      <td>422</td>\n",
       "    </tr>\n",
       "    <tr>\n",
       "      <th>...</th>\n",
       "      <td>...</td>\n",
       "      <td>...</td>\n",
       "      <td>...</td>\n",
       "      <td>...</td>\n",
       "      <td>...</td>\n",
       "    </tr>\n",
       "    <tr>\n",
       "      <th>95</th>\n",
       "      <td>2023-04-06</td>\n",
       "      <td>1783</td>\n",
       "      <td>11623.229662</td>\n",
       "      <td>13040.175005</td>\n",
       "      <td>885</td>\n",
       "    </tr>\n",
       "    <tr>\n",
       "      <th>96</th>\n",
       "      <td>2023-04-07</td>\n",
       "      <td>3834</td>\n",
       "      <td>35789.475706</td>\n",
       "      <td>12244.994752</td>\n",
       "      <td>953</td>\n",
       "    </tr>\n",
       "    <tr>\n",
       "      <th>97</th>\n",
       "      <td>2023-04-08</td>\n",
       "      <td>508</td>\n",
       "      <td>12508.266962</td>\n",
       "      <td>9861.017531</td>\n",
       "      <td>908</td>\n",
       "    </tr>\n",
       "    <tr>\n",
       "      <th>98</th>\n",
       "      <td>2023-04-09</td>\n",
       "      <td>4014</td>\n",
       "      <td>11694.260086</td>\n",
       "      <td>14834.759668</td>\n",
       "      <td>586</td>\n",
       "    </tr>\n",
       "    <tr>\n",
       "      <th>99</th>\n",
       "      <td>2023-04-10</td>\n",
       "      <td>4478</td>\n",
       "      <td>34608.550367</td>\n",
       "      <td>7206.372468</td>\n",
       "      <td>842</td>\n",
       "    </tr>\n",
       "  </tbody>\n",
       "</table>\n",
       "<p>100 rows × 5 columns</p>\n",
       "</div>"
      ],
      "text/plain": [
       "         date  transactions         sales        profit  customer_count\n",
       "0  2023-01-01          3387  28307.069479  16564.098541             784\n",
       "1  2023-01-02          1696  47301.190844  17075.066212             195\n",
       "2  2023-01-03          3367  29440.087996  12432.529834             496\n",
       "3  2023-01-04          3489  32946.090802  10153.539943             126\n",
       "4  2023-01-05          2288  31531.459852  10778.531431             422\n",
       "..        ...           ...           ...           ...             ...\n",
       "95 2023-04-06          1783  11623.229662  13040.175005             885\n",
       "96 2023-04-07          3834  35789.475706  12244.994752             953\n",
       "97 2023-04-08           508  12508.266962   9861.017531             908\n",
       "98 2023-04-09          4014  11694.260086  14834.759668             586\n",
       "99 2023-04-10          4478  34608.550367   7206.372468             842\n",
       "\n",
       "[100 rows x 5 columns]"
      ]
     },
     "execution_count": 7,
     "metadata": {},
     "output_type": "execute_result"
    }
   ],
   "source": [
    "# Create a simple dataset with date, transactions, sales, profit, and customer count\n",
    "data = {\n",
    "    'date': pd.date_range(start='2023-01-01', periods=100, freq='D'),  # Dates over 100 days\n",
    "    'transactions': np.random.randint(500, 5000, size=100),  # Random number of transactions\n",
    "    'sales': np.random.uniform(10000, 50000, size=100),  # Random sales amounts\n",
    "    'profit': np.random.uniform(5000, 20000, size=100),  # Random profit amounts\n",
    "    'customer_count': np.random.randint(100, 1000, size=100)  # Random customer count\n",
    "}\n",
    "\n",
    "# Create the DataFrame\n",
    "df = pd.DataFrame(data)\n",
    "df"
   ]
  },
  {
   "cell_type": "markdown",
   "id": "c4a670eb-4583-4080-8a23-04c07609832e",
   "metadata": {},
   "source": [
    "### T-test"
   ]
  },
  {
   "cell_type": "code",
   "execution_count": 8,
   "id": "5ec3f5c2-e11b-45c2-a688-787992c5838f",
   "metadata": {},
   "outputs": [
    {
     "name": "stdout",
     "output_type": "stream",
     "text": [
      "T-statistic: -0.23265664324157728, P-value: 0.8165132445251699\n"
     ]
    }
   ],
   "source": [
    "median_transactions = df['transactions'].median()\n",
    "high_transactions = df[df['transactions'] > median_transactions]['profit']\n",
    "low_transactions = df[df['transactions'] <= median_transactions]['profit']\n",
    "\n",
    "# Perform T-test\n",
    "t_stat, p_value = stats.ttest_ind(high_transactions, low_transactions)\n",
    "print(f\"T-statistic: {t_stat}, P-value: {p_value}\")"
   ]
  },
  {
   "cell_type": "markdown",
   "id": "f5b2c298-1c59-4906-8ca1-b2da36817a7d",
   "metadata": {},
   "source": [
    "### Anova"
   ]
  },
  {
   "cell_type": "code",
   "execution_count": 9,
   "id": "61eeafb5-bfdc-4e02-9f03-316e3ce9b959",
   "metadata": {},
   "outputs": [
    {
     "name": "stdout",
     "output_type": "stream",
     "text": [
      "ANOVA F-statistic: 2.488607260893683, P-value: 0.08831339314994303\n"
     ]
    }
   ],
   "source": [
    "# Categorize customer counts\n",
    "bins = [0, 300, 600, 1000]\n",
    "labels = ['Low', 'Medium', 'High']\n",
    "df['customer_category'] = pd.cut(df['customer_count'], bins=bins, labels=labels)\n",
    "\n",
    "# Perform ANOVA\n",
    "anova_result = stats.f_oneway(\n",
    "    df[df['customer_category'] == 'Low']['sales'],\n",
    "    df[df['customer_category'] == 'Medium']['sales'],\n",
    "    df[df['customer_category'] == 'High']['sales']\n",
    ")\n",
    "\n",
    "print(f\"ANOVA F-statistic: {anova_result.statistic}, P-value: {anova_result.pvalue}\")"
   ]
  },
  {
   "cell_type": "markdown",
   "id": "0955cf8b-86ec-4e9e-b114-3a1a8a064973",
   "metadata": {},
   "source": [
    "### **Findings**\n",
    "\n",
    "#### **1. T-Test on Customer Shopping Data**\n",
    "- **Tested Hypothesis**: Are there significant differences in the quantity of items purchased between Male and Female customers?\n",
    "- **Results**:\n",
    "  - T-statistic: `-0.076`\n",
    "  - P-value: `0.939`\n",
    "- **Conclusion**:\n",
    "  - With a p-value much greater than `0.05`, we fail to reject the null hypothesis.\n",
    "  - No significant difference in item quantities purchased by Male and Female customers.\n",
    "\n",
    "#### **2. ANOVA on Customer Shopping Data**\n",
    "- **Tested Hypothesis**: Are there significant differences in average prices across different shopping malls?\n",
    "- **Results**:\n",
    "  - F-statistic: `0.482`\n",
    "  - P-value: `0.888`\n",
    "- **Conclusion**:\n",
    "  - With a p-value greater than `0.05`, we fail to reject the null hypothesis.\n",
    "  - No significant difference in the average prices of items across shopping malls.\n",
    "\n",
    "#### **3. T-Test on Transaction Data**\n",
    "- **Tested Hypothesis**: Is there a significant difference in profit between high-transaction and low-transaction days?\n",
    "- **Results**:\n",
    "  - T-statistic: `-0.233`\n",
    "  - P-value: `0.817`\n",
    "- **Conclusion**:\n",
    "  - The p-value exceeds `0.05`, so we fail to reject the null hypothesis.\n",
    "  - No significant difference in profit between high-transaction and low-transaction days.\n",
    "\n",
    "#### **4. ANOVA on Transaction Data**\n",
    "- **Tested Hypothesis**: Are there significant differences in average sales across different customer categories (Low, Medium, High)?\n",
    "- **Results**:\n",
    "  - F-statistic: `2.489`\n",
    "  - P-value: `0.088`\n",
    "- **Conclusion**:\n",
    "  - The p-value is greater than `0.05` but less than `0.1`, suggesting a trend toward significance.\n",
    "  - However, we do not reject the null hypothesis at the `0.05` level. No significant difference in sales across customer categories.\n",
    "\n",
    "---\n",
    "\n",
    "### **Summary**\n",
    "1. **Customer Shopping Data**:\n",
    "   - No significant difference in quantities purchased by gender or in average prices across shopping malls.\n",
    "2. **Transaction Data**:\n",
    "   - No significant difference in profit between high and low transaction days.\n",
    "   - No strong evidence of differences in sales across customer categories, although a trend towards significance was observed.\n",
    "\n",
    "These results suggest that at the 0.05 significance level, the analyzed factors do not strongly impact the measured outcomes. Further data or alternative methods may be required for deeper insights.\n"
   ]
  },
  {
   "cell_type": "code",
   "execution_count": null,
   "id": "622ecde2-231e-43f4-9787-52047d9df657",
   "metadata": {},
   "outputs": [],
   "source": []
  }
 ],
 "metadata": {
  "kernelspec": {
   "display_name": "Python 3 (ipykernel)",
   "language": "python",
   "name": "python3"
  },
  "language_info": {
   "codemirror_mode": {
    "name": "ipython",
    "version": 3
   },
   "file_extension": ".py",
   "mimetype": "text/x-python",
   "name": "python",
   "nbconvert_exporter": "python",
   "pygments_lexer": "ipython3",
   "version": "3.12.5"
  }
 },
 "nbformat": 4,
 "nbformat_minor": 5
}
