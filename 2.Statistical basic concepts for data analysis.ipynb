{
 "cells": [
  {
   "cell_type": "markdown",
   "id": "8986059e-29eb-4faa-b261-62cb34e6094b",
   "metadata": {},
   "source": [
    "# 2. Statistical Basic Concepts for Data Analysis\n",
    "\n",
    "## Introduction\n",
    "This project demonstrates foundational statistical concepts applied to a retail transaction dataset. The focus is on showcasing skills and techniques such as:\n",
    "\n",
    "- **Descriptive Statistics**: Calculating measures like mean, median, mode, variance, and standard deviation.\n",
    "- **Advanced Sampling and Central Limit Theorem (CLT)**: Analyzing data using sampling techniques to observe the distribution of sample means.\n",
    "- **Error Analysis**: Calculating errors, squared errors, and their implications on variance and standard deviation.\n",
    "- **Margin of Error and Confidence Intervals**: Estimating the range within which true values lie with varying confidence levels.\n",
    "- **Time Series Analysis**: Applying statistical methods to transactions over specific date ranges.\n",
    "\n",
    "This dataset contains transaction data with store IDs and corresponding dates. The project focuses on applying statistical methodologies to analyze all transactions and specific subsets, such as transactions for a single store or within a defined time frame.\n",
    "\n",
    "---"
   ]
  },
  {
   "cell_type": "code",
   "execution_count": 1,
   "id": "0e8be8b6-7684-46ad-b4c8-ab4b970a9634",
   "metadata": {},
   "outputs": [
    {
     "name": "stdout",
     "output_type": "stream",
     "text": [
      "         date  store_nbr  transactions\n",
      "0  2013-01-01         25           770\n",
      "1  2013-01-02          1          2111\n",
      "2  2013-01-02          2          2358\n",
      "3  2013-01-02          3          3487\n",
      "4  2013-01-02          4          1922\n"
     ]
    }
   ],
   "source": [
    "import pandas as pd\n",
    "import numpy as np\n",
    "df = pd.read_csv(r\"C:\\Users\\Zana\\Desktop\\pandas\\retail\\transactions.csv\")\n",
    "print(df.head())"
   ]
  },
  {
   "cell_type": "code",
   "execution_count": 2,
   "id": "a3baebdc-7076-4c53-8ba3-1f6963285a6f",
   "metadata": {},
   "outputs": [
    {
     "data": {
      "text/html": [
       "<div>\n",
       "<style scoped>\n",
       "    .dataframe tbody tr th:only-of-type {\n",
       "        vertical-align: middle;\n",
       "    }\n",
       "\n",
       "    .dataframe tbody tr th {\n",
       "        vertical-align: top;\n",
       "    }\n",
       "\n",
       "    .dataframe thead th {\n",
       "        text-align: right;\n",
       "    }\n",
       "</style>\n",
       "<table border=\"1\" class=\"dataframe\">\n",
       "  <thead>\n",
       "    <tr style=\"text-align: right;\">\n",
       "      <th></th>\n",
       "      <th>date</th>\n",
       "      <th>store_nbr</th>\n",
       "      <th>transactions</th>\n",
       "    </tr>\n",
       "  </thead>\n",
       "  <tbody>\n",
       "    <tr>\n",
       "      <th>83483</th>\n",
       "      <td>2017-08-15</td>\n",
       "      <td>50</td>\n",
       "      <td>2804</td>\n",
       "    </tr>\n",
       "    <tr>\n",
       "      <th>83484</th>\n",
       "      <td>2017-08-15</td>\n",
       "      <td>51</td>\n",
       "      <td>1573</td>\n",
       "    </tr>\n",
       "    <tr>\n",
       "      <th>83485</th>\n",
       "      <td>2017-08-15</td>\n",
       "      <td>52</td>\n",
       "      <td>2255</td>\n",
       "    </tr>\n",
       "    <tr>\n",
       "      <th>83486</th>\n",
       "      <td>2017-08-15</td>\n",
       "      <td>53</td>\n",
       "      <td>932</td>\n",
       "    </tr>\n",
       "    <tr>\n",
       "      <th>83487</th>\n",
       "      <td>2017-08-15</td>\n",
       "      <td>54</td>\n",
       "      <td>802</td>\n",
       "    </tr>\n",
       "  </tbody>\n",
       "</table>\n",
       "</div>"
      ],
      "text/plain": [
       "             date  store_nbr  transactions\n",
       "83483  2017-08-15         50          2804\n",
       "83484  2017-08-15         51          1573\n",
       "83485  2017-08-15         52          2255\n",
       "83486  2017-08-15         53           932\n",
       "83487  2017-08-15         54           802"
      ]
     },
     "execution_count": 2,
     "metadata": {},
     "output_type": "execute_result"
    }
   ],
   "source": [
    "df.tail()"
   ]
  },
  {
   "cell_type": "code",
   "execution_count": 3,
   "id": "7cd87e6d-5c4d-4504-9c1a-8c156a6bcbe7",
   "metadata": {},
   "outputs": [
    {
     "data": {
      "text/html": [
       "<div>\n",
       "<style scoped>\n",
       "    .dataframe tbody tr th:only-of-type {\n",
       "        vertical-align: middle;\n",
       "    }\n",
       "\n",
       "    .dataframe tbody tr th {\n",
       "        vertical-align: top;\n",
       "    }\n",
       "\n",
       "    .dataframe thead th {\n",
       "        text-align: right;\n",
       "    }\n",
       "</style>\n",
       "<table border=\"1\" class=\"dataframe\">\n",
       "  <thead>\n",
       "    <tr style=\"text-align: right;\">\n",
       "      <th></th>\n",
       "      <th>store_nbr</th>\n",
       "      <th>transactions</th>\n",
       "    </tr>\n",
       "  </thead>\n",
       "  <tbody>\n",
       "    <tr>\n",
       "      <th>count</th>\n",
       "      <td>83488.000000</td>\n",
       "      <td>83488.000000</td>\n",
       "    </tr>\n",
       "    <tr>\n",
       "      <th>mean</th>\n",
       "      <td>26.939237</td>\n",
       "      <td>1694.602158</td>\n",
       "    </tr>\n",
       "    <tr>\n",
       "      <th>std</th>\n",
       "      <td>15.608204</td>\n",
       "      <td>963.286644</td>\n",
       "    </tr>\n",
       "    <tr>\n",
       "      <th>min</th>\n",
       "      <td>1.000000</td>\n",
       "      <td>5.000000</td>\n",
       "    </tr>\n",
       "    <tr>\n",
       "      <th>25%</th>\n",
       "      <td>13.000000</td>\n",
       "      <td>1046.000000</td>\n",
       "    </tr>\n",
       "    <tr>\n",
       "      <th>50%</th>\n",
       "      <td>27.000000</td>\n",
       "      <td>1393.000000</td>\n",
       "    </tr>\n",
       "    <tr>\n",
       "      <th>75%</th>\n",
       "      <td>40.000000</td>\n",
       "      <td>2079.000000</td>\n",
       "    </tr>\n",
       "    <tr>\n",
       "      <th>max</th>\n",
       "      <td>54.000000</td>\n",
       "      <td>8359.000000</td>\n",
       "    </tr>\n",
       "  </tbody>\n",
       "</table>\n",
       "</div>"
      ],
      "text/plain": [
       "          store_nbr  transactions\n",
       "count  83488.000000  83488.000000\n",
       "mean      26.939237   1694.602158\n",
       "std       15.608204    963.286644\n",
       "min        1.000000      5.000000\n",
       "25%       13.000000   1046.000000\n",
       "50%       27.000000   1393.000000\n",
       "75%       40.000000   2079.000000\n",
       "max       54.000000   8359.000000"
      ]
     },
     "execution_count": 3,
     "metadata": {},
     "output_type": "execute_result"
    }
   ],
   "source": [
    "df.describe()"
   ]
  },
  {
   "cell_type": "code",
   "execution_count": 4,
   "id": "a3db18c4-5177-4707-8cf0-6a778aca44ab",
   "metadata": {},
   "outputs": [
    {
     "name": "stdout",
     "output_type": "stream",
     "text": [
      "<class 'pandas.core.frame.DataFrame'>\n",
      "RangeIndex: 83488 entries, 0 to 83487\n",
      "Data columns (total 3 columns):\n",
      " #   Column        Non-Null Count  Dtype \n",
      "---  ------        --------------  ----- \n",
      " 0   date          83488 non-null  object\n",
      " 1   store_nbr     83488 non-null  int64 \n",
      " 2   transactions  83488 non-null  int64 \n",
      "dtypes: int64(2), object(1)\n",
      "memory usage: 1.9+ MB\n"
     ]
    }
   ],
   "source": [
    "df.info()"
   ]
  },
  {
   "cell_type": "code",
   "execution_count": 5,
   "id": "0fda1859-36c7-4725-ac20-4fb76809b91a",
   "metadata": {},
   "outputs": [
    {
     "name": "stdout",
     "output_type": "stream",
     "text": [
      "<class 'pandas.core.frame.DataFrame'>\n",
      "RangeIndex: 83488 entries, 0 to 83487\n",
      "Data columns (total 3 columns):\n",
      " #   Column        Non-Null Count  Dtype         \n",
      "---  ------        --------------  -----         \n",
      " 0   date          83488 non-null  datetime64[ns]\n",
      " 1   store_nbr     83488 non-null  int64         \n",
      " 2   transactions  83488 non-null  int64         \n",
      "dtypes: datetime64[ns](1), int64(2)\n",
      "memory usage: 1.9 MB\n",
      "None\n"
     ]
    }
   ],
   "source": [
    "# Convert the 'date' column to datetime\n",
    "df['date'] = pd.to_datetime(df['date'])\n",
    "\n",
    "# Confirm the change\n",
    "print(df.info())"
   ]
  },
  {
   "cell_type": "markdown",
   "id": "0ad1eee6-0aa8-4d67-8c7f-153c82300dbe",
   "metadata": {},
   "source": [
    "### Mode"
   ]
  },
  {
   "cell_type": "code",
   "execution_count": 6,
   "id": "35573bb2-6359-483a-b1ca-63a1561b3025",
   "metadata": {},
   "outputs": [
    {
     "name": "stdout",
     "output_type": "stream",
     "text": [
      "0    1207\n",
      "Name: transactions, dtype: int64\n"
     ]
    }
   ],
   "source": [
    "mode_value = df['transactions'].mode()\n",
    "print(mode_value)"
   ]
  },
  {
   "cell_type": "markdown",
   "id": "c6b2c834-93e8-4948-b9f1-bdd4a7b262f1",
   "metadata": {},
   "source": [
    "### Multiple modes for all transactions:"
   ]
  },
  {
   "cell_type": "code",
   "execution_count": 8,
   "id": "8b8237d3-811a-4c73-bb6e-9630b38740ef",
   "metadata": {},
   "outputs": [
    {
     "name": "stdout",
     "output_type": "stream",
     "text": [
      "0    1207\n",
      "Name: transactions, dtype: int64\n"
     ]
    }
   ],
   "source": [
    "# Calculate the mode(s) for the entire 'transactions' column\n",
    "modes = df['transactions'].mode()\n",
    "\n",
    "# Print the result\n",
    "print(modes)"
   ]
  },
  {
   "cell_type": "markdown",
   "id": "bcb77517-b47c-4b73-b5cc-56846c27f2e5",
   "metadata": {},
   "source": [
    "### Multiple modes for store_nbr 45:"
   ]
  },
  {
   "cell_type": "code",
   "execution_count": 9,
   "id": "aebd64fc-54fa-4abc-b61f-44efcb406c5c",
   "metadata": {},
   "outputs": [
    {
     "name": "stdout",
     "output_type": "stream",
     "text": [
      "0    4197\n",
      "Name: transactions, dtype: int64\n"
     ]
    }
   ],
   "source": [
    "# Filter the DataFrame for store_nbr 45\n",
    "store_45_df = df[df['store_nbr'] == 45]\n",
    "\n",
    "# Calculate the mode(s) for the 'transactions' column for store_nbr 45\n",
    "modes_store_45 = store_45_df['transactions'].mode()\n",
    "\n",
    "# Print the result\n",
    "print(modes_store_45)"
   ]
  },
  {
   "cell_type": "markdown",
   "id": "15be3e95-b590-459b-b942-7d6285242fe3",
   "metadata": {},
   "source": [
    "### Mode for store_nbr 45"
   ]
  },
  {
   "cell_type": "code",
   "execution_count": 10,
   "id": "82bfc388-3faf-4566-96d0-196bab73e7ec",
   "metadata": {},
   "outputs": [
    {
     "name": "stdout",
     "output_type": "stream",
     "text": [
      "0    4197\n",
      "Name: transactions, dtype: int64\n"
     ]
    }
   ],
   "source": [
    "# Filter the DataFrame for store_nbr 45\n",
    "store_45_df = df[df['store_nbr'] == 45]\n",
    "\n",
    "# Calculate the mode for the 'transactions' column for store_nbr 45\n",
    "mode_value_store_45 = store_45_df['transactions'].mode()\n",
    "\n",
    "# Print the result\n",
    "print(mode_value_store_45)"
   ]
  },
  {
   "cell_type": "markdown",
   "id": "bd74ecc3-aabf-4f85-9534-7d7240b50de3",
   "metadata": {},
   "source": [
    "### Median for all transactions:"
   ]
  },
  {
   "cell_type": "code",
   "execution_count": 11,
   "id": "f0bf662e-ae9b-47a8-a081-0032d98e7aef",
   "metadata": {},
   "outputs": [
    {
     "name": "stdout",
     "output_type": "stream",
     "text": [
      "1393.0\n"
     ]
    }
   ],
   "source": [
    "# Calculate the median for the entire 'transactions' column\n",
    "median_value = df['transactions'].median()\n",
    "\n",
    "# Print the result\n",
    "print(median_value)"
   ]
  },
  {
   "cell_type": "markdown",
   "id": "c4a08efc-f88e-420a-a9f6-d92ae627a399",
   "metadata": {},
   "source": [
    "### Median for store number 45:"
   ]
  },
  {
   "cell_type": "code",
   "execution_count": 13,
   "id": "7e9328fe-49e1-494a-b96b-e714b0d87430",
   "metadata": {},
   "outputs": [
    {
     "name": "stdout",
     "output_type": "stream",
     "text": [
      "3515.0\n"
     ]
    }
   ],
   "source": [
    "# Filter the DataFrame for store_nbr 45\n",
    "store_45_df = df[df['store_nbr'] == 45]\n",
    "\n",
    "# Calculate the median for the 'transactions' column for store_nbr 45\n",
    "median_value_store_45 = store_45_df['transactions'].median()\n",
    "\n",
    "# Print the result\n",
    "print(median_value_store_45)"
   ]
  },
  {
   "cell_type": "markdown",
   "id": "89aacf8a-8397-461a-ac1c-fdd99b3e6f83",
   "metadata": {},
   "source": [
    "### Mean for transactions"
   ]
  },
  {
   "cell_type": "code",
   "execution_count": 14,
   "id": "48156e29-61d1-4f9f-a7dd-6611d72029ce",
   "metadata": {},
   "outputs": [
    {
     "name": "stdout",
     "output_type": "stream",
     "text": [
      "1694.6021583940208\n"
     ]
    }
   ],
   "source": [
    "# Calculate the mean for the entire 'transactions' column\n",
    "mean_value = df['transactions'].mean()\n",
    "\n",
    "# Print the result\n",
    "print(mean_value)"
   ]
  },
  {
   "cell_type": "markdown",
   "id": "351161fc-b6d2-40cf-82d9-d83f1c989102",
   "metadata": {},
   "source": [
    "### Mean for store_nbr 45:"
   ]
  },
  {
   "cell_type": "code",
   "execution_count": 15,
   "id": "3b3f1b31-a2e6-47a0-90c5-b21d9ae1f481",
   "metadata": {},
   "outputs": [
    {
     "name": "stdout",
     "output_type": "stream",
     "text": [
      "3697.7429934406678\n"
     ]
    }
   ],
   "source": [
    "# Filter the DataFrame for store_nbr 45\n",
    "store_45_df = df[df['store_nbr'] == 45]\n",
    "\n",
    "# Calculate the mean for the 'transactions' column for store_nbr 45\n",
    "mean_value_store_45 = store_45_df['transactions'].mean()\n",
    "\n",
    "# Print the result\n",
    "print(mean_value_store_45)"
   ]
  },
  {
   "cell_type": "markdown",
   "id": "8fe5b808-2955-44a5-95c4-f8e258dc54ff",
   "metadata": {},
   "source": [
    "### Minimum, maximum, and quartiles (Q1, Q2/median, Q3) for all transactions"
   ]
  },
  {
   "cell_type": "code",
   "execution_count": 16,
   "id": "fe6eee47-0819-4849-8271-db48be0af72f",
   "metadata": {},
   "outputs": [
    {
     "name": "stdout",
     "output_type": "stream",
     "text": [
      "Min: 5\n",
      "Max: 8359\n",
      "Q1 (25th percentile): 1046.0\n",
      "Q2 (Median/50th percentile): 1393.0\n",
      "Q3 (75th percentile): 2079.0\n"
     ]
    }
   ],
   "source": [
    "# Calculate min, max, Q1, Q2 (median), and Q3 for all transactions\n",
    "min_value = df['transactions'].min()\n",
    "max_value = df['transactions'].max()\n",
    "q1 = df['transactions'].quantile(0.25)\n",
    "q2 = df['transactions'].median()  # Q2 is the median\n",
    "q3 = df['transactions'].quantile(0.75)\n",
    "\n",
    "# Print the results\n",
    "print(f\"Min: {min_value}\")\n",
    "print(f\"Max: {max_value}\")\n",
    "print(f\"Q1 (25th percentile): {q1}\")\n",
    "print(f\"Q2 (Median/50th percentile): {q2}\")\n",
    "print(f\"Q3 (75th percentile): {q3}\")"
   ]
  },
  {
   "cell_type": "markdown",
   "id": "1bd876ff-f0d2-4e9e-8482-b6c11f9c1b7b",
   "metadata": {},
   "source": [
    "### For store_nbr 45:"
   ]
  },
  {
   "cell_type": "code",
   "execution_count": 17,
   "id": "dea0177f-c94f-4d5e-ae57-3a58c06d6883",
   "metadata": {},
   "outputs": [
    {
     "name": "stdout",
     "output_type": "stream",
     "text": [
      "Min (store 45): 292\n",
      "Max (store 45): 7305\n",
      "Q1 (25th percentile, store 45): 3172.0\n",
      "Q2 (Median/50th percentile, store 45): 3515.0\n",
      "Q3 (75th percentile, store 45): 4211.0\n"
     ]
    }
   ],
   "source": [
    "# Filter the DataFrame for store_nbr 45\n",
    "store_45_df = df[df['store_nbr'] == 45]\n",
    "\n",
    "# Calculate min, max, Q1, Q2 (median), and Q3 for transactions of store_nbr 45\n",
    "min_value_store_45 = store_45_df['transactions'].min()\n",
    "max_value_store_45 = store_45_df['transactions'].max()\n",
    "q1_store_45 = store_45_df['transactions'].quantile(0.25)\n",
    "q2_store_45 = store_45_df['transactions'].median()  # Q2 is the median\n",
    "q3_store_45 = store_45_df['transactions'].quantile(0.75)\n",
    "\n",
    "# Print the results\n",
    "print(f\"Min (store 45): {min_value_store_45}\")\n",
    "print(f\"Max (store 45): {max_value_store_45}\")\n",
    "print(f\"Q1 (25th percentile, store 45): {q1_store_45}\")\n",
    "print(f\"Q2 (Median/50th percentile, store 45): {q2_store_45}\")\n",
    "print(f\"Q3 (75th percentile, store 45): {q3_store_45}\")"
   ]
  },
  {
   "cell_type": "markdown",
   "id": "31b11089-7603-420e-b22c-8d42c7d92754",
   "metadata": {},
   "source": [
    "### Statistics for transactions in the specified date range (09/01/2013 to 23/12/2017):"
   ]
  },
  {
   "cell_type": "code",
   "execution_count": 18,
   "id": "f85d951a-feed-4e96-b364-1b47680e5c38",
   "metadata": {},
   "outputs": [
    {
     "name": "stdout",
     "output_type": "stream",
     "text": [
      "Min: 5\n",
      "Max: 8359\n",
      "Mean: 1694.1742680214031\n",
      "Median: 1393.0\n",
      "Mode(s): [1207]\n",
      "Q1 (25th percentile): 1046.0\n",
      "Q2 (Median/50th percentile): 1393.0\n",
      "Q3 (75th percentile): 2079.0\n"
     ]
    }
   ],
   "source": [
    "# Convert the 'date' column to datetime if not done already\n",
    "df['date'] = pd.to_datetime(df['date'], format='%d/%m/%Y')\n",
    "\n",
    "# Filter the DataFrame for the specified date range\n",
    "date_filtered_df = df[(df['date'] >= '2013-01-09') & (df['date'] <= '2017-12-23')]\n",
    "\n",
    "# Calculate statistics for 'transactions'\n",
    "min_value = date_filtered_df['transactions'].min()\n",
    "max_value = date_filtered_df['transactions'].max()\n",
    "mean_value = date_filtered_df['transactions'].mean()\n",
    "median_value = date_filtered_df['transactions'].median()\n",
    "modes = date_filtered_df['transactions'].mode()  # can return multiple modes\n",
    "q1 = date_filtered_df['transactions'].quantile(0.25)\n",
    "q2 = date_filtered_df['transactions'].median()  # Q2 is the median\n",
    "q3 = date_filtered_df['transactions'].quantile(0.75)\n",
    "\n",
    "# Print the results for transactions within the date range\n",
    "print(f\"Min: {min_value}\")\n",
    "print(f\"Max: {max_value}\")\n",
    "print(f\"Mean: {mean_value}\")\n",
    "print(f\"Median: {median_value}\")\n",
    "print(f\"Mode(s): {modes.to_list()}\")\n",
    "print(f\"Q1 (25th percentile): {q1}\")\n",
    "print(f\"Q2 (Median/50th percentile): {q2}\")\n",
    "print(f\"Q3 (75th percentile): {q3}\")"
   ]
  },
  {
   "cell_type": "markdown",
   "id": "ba80bea5-79cf-4466-8063-89914cda29bb",
   "metadata": {},
   "source": [
    "### Statistics for store_nbr 45 in the specified date range (09/01/2013 to 23/12/2017):"
   ]
  },
  {
   "cell_type": "code",
   "execution_count": 19,
   "id": "50d9a760-cd98-4eb3-8fc9-551cd0bfec31",
   "metadata": {},
   "outputs": [
    {
     "name": "stdout",
     "output_type": "stream",
     "text": [
      "Min (store 45): 292\n",
      "Max (store 45): 7305\n",
      "Mean (store 45): 3697.4688622754493\n",
      "Median (store 45): 3514.0\n",
      "Mode(s) (store 45): [4197]\n",
      "Q1 (25th percentile, store 45): 3172.0\n",
      "Q2 (Median/50th percentile, store 45): 3514.0\n",
      "Q3 (75th percentile, store 45): 4210.75\n"
     ]
    }
   ],
   "source": [
    "# Filter the DataFrame for store_nbr 45 and within the specified date range\n",
    "store_45_df = df[(df['store_nbr'] == 45) & (df['date'] >= '2013-01-09') & (df['date'] <= '2017-12-23')]\n",
    "\n",
    "# Calculate statistics for 'transactions' of store_nbr 45\n",
    "min_value_store_45 = store_45_df['transactions'].min()\n",
    "max_value_store_45 = store_45_df['transactions'].max()\n",
    "mean_value_store_45 = store_45_df['transactions'].mean()\n",
    "median_value_store_45 = store_45_df['transactions'].median()\n",
    "modes_store_45 = store_45_df['transactions'].mode()  # can return multiple modes\n",
    "q1_store_45 = store_45_df['transactions'].quantile(0.25)\n",
    "q2_store_45 = store_45_df['transactions'].median()  # Q2 is the median\n",
    "q3_store_45 = store_45_df['transactions'].quantile(0.75)\n",
    "\n",
    "# Print the results for store_nbr 45 within the date range\n",
    "print(f\"Min (store 45): {min_value_store_45}\")\n",
    "print(f\"Max (store 45): {max_value_store_45}\")\n",
    "print(f\"Mean (store 45): {mean_value_store_45}\")\n",
    "print(f\"Median (store 45): {median_value_store_45}\")\n",
    "print(f\"Mode(s) (store 45): {modes_store_45.to_list()}\")\n",
    "print(f\"Q1 (25th percentile, store 45): {q1_store_45}\")\n",
    "print(f\"Q2 (Median/50th percentile, store 45): {q2_store_45}\")\n",
    "print(f\"Q3 (75th percentile, store 45): {q3_store_45}\")"
   ]
  },
  {
   "cell_type": "markdown",
   "id": "6561819b-8656-4b84-8cca-165cb4643673",
   "metadata": {},
   "source": [
    "### Error all transaction"
   ]
  },
  {
   "cell_type": "code",
   "execution_count": 20,
   "id": "52271106-8516-4e67-afe3-03ee16e4e29e",
   "metadata": {},
   "outputs": [
    {
     "name": "stdout",
     "output_type": "stream",
     "text": [
      "Error: 323       215.825732\n",
      "324       280.825732\n",
      "325      1237.825732\n",
      "326      -161.174268\n",
      "327      -181.174268\n",
      "            ...     \n",
      "83483    1109.825732\n",
      "83484    -121.174268\n",
      "83485     560.825732\n",
      "83486    -762.174268\n",
      "83487    -892.174268\n",
      "Name: transactions, Length: 83165, dtype: float64\n"
     ]
    }
   ],
   "source": [
    "# Calculate the mean of transactions\n",
    "mean_value = date_filtered_df['transactions'].mean()\n",
    "\n",
    "# Calculate error (difference from the mean)\n",
    "errors = date_filtered_df['transactions'] - mean_value\n",
    "\n",
    "# Print the errors\n",
    "print(f\"Error: {errors}\")"
   ]
  },
  {
   "cell_type": "markdown",
   "id": "c0bce309-c2e3-407b-ad7c-102814c2c6de",
   "metadata": {},
   "source": [
    "### Squared Error (all transactions):"
   ]
  },
  {
   "cell_type": "code",
   "execution_count": 21,
   "id": "10f0d53e-10e6-4d88-8fed-f390b33d1e62",
   "metadata": {},
   "outputs": [
    {
     "name": "stdout",
     "output_type": "stream",
     "text": [
      "Squared Errors: 323      4.658075e+04\n",
      "324      7.886309e+04\n",
      "325      1.532213e+06\n",
      "326      2.597714e+04\n",
      "327      3.282412e+04\n",
      "             ...     \n",
      "83483    1.231713e+06\n",
      "83484    1.468320e+04\n",
      "83485    3.145255e+05\n",
      "83486    5.809096e+05\n",
      "83487    7.959749e+05\n",
      "Name: transactions, Length: 83165, dtype: float64\n"
     ]
    }
   ],
   "source": [
    "# Calculate squared error (errors squared)\n",
    "squared_errors = errors ** 2\n",
    "\n",
    "# Print the squared errors\n",
    "print(f\"Squared Errors: {squared_errors}\")"
   ]
  },
  {
   "cell_type": "markdown",
   "id": "ef03686e-4640-4b6d-be42-22f8af63d4fa",
   "metadata": {},
   "source": [
    "### Variance (long way, all transactions):"
   ]
  },
  {
   "cell_type": "code",
   "execution_count": 23,
   "id": "0edeb026-068d-4feb-9806-31eb363b5252",
   "metadata": {},
   "outputs": [
    {
     "name": "stdout",
     "output_type": "stream",
     "text": [
      "Variance (long way): 927591.9812821927\n"
     ]
    }
   ],
   "source": [
    "# Calculate variance (long way) - average of squared errors\n",
    "variance_long_way = squared_errors.mean()\n",
    "\n",
    "# Print the variance\n",
    "print(f\"Variance (long way): {variance_long_way}\")"
   ]
  },
  {
   "cell_type": "markdown",
   "id": "b2624f6f-f186-4ab2-b807-bb102519072c",
   "metadata": {},
   "source": [
    "### Standard Deviation (long way, all transactions):"
   ]
  },
  {
   "cell_type": "code",
   "execution_count": 24,
   "id": "7043aa55-83fd-46fc-91cc-ece411da0f92",
   "metadata": {},
   "outputs": [
    {
     "name": "stdout",
     "output_type": "stream",
     "text": [
      "Standard Deviation (long way): 963.1157673313177\n"
     ]
    }
   ],
   "source": [
    "import numpy as np\n",
    "\n",
    "# Calculate standard deviation (long way) - square root of variance\n",
    "stddev_long_way = np.sqrt(variance_long_way)\n",
    "\n",
    "# Print the standard deviation\n",
    "print(f\"Standard Deviation (long way): {stddev_long_way}\")"
   ]
  },
  {
   "cell_type": "markdown",
   "id": "bdd75230-2873-4d17-947e-acf49ce1b8ef",
   "metadata": {},
   "source": [
    "### Sample Variance (var.s, all transactions):"
   ]
  },
  {
   "cell_type": "code",
   "execution_count": 25,
   "id": "d93d3136-0210-4ffb-a3b0-489b08342330",
   "metadata": {},
   "outputs": [
    {
     "name": "stdout",
     "output_type": "stream",
     "text": [
      "Sample Variance (var.s): 927603.1350504252\n"
     ]
    }
   ],
   "source": [
    "# Built-in sample variance\n",
    "sample_variance = date_filtered_df['transactions'].var()\n",
    "\n",
    "# Print the sample variance\n",
    "print(f\"Sample Variance (var.s): {sample_variance}\")"
   ]
  },
  {
   "cell_type": "markdown",
   "id": "95834d2e-c561-4adf-8955-f3f5c03b0ef5",
   "metadata": {},
   "source": [
    "### Sample Standard Deviation (stdev.s, all transactions):"
   ]
  },
  {
   "cell_type": "code",
   "execution_count": 26,
   "id": "f5533500-3360-42e3-9798-03743993dc30",
   "metadata": {},
   "outputs": [
    {
     "name": "stdout",
     "output_type": "stream",
     "text": [
      "Sample Standard Deviation (stdev.s): 963.1215577747314\n"
     ]
    }
   ],
   "source": [
    "# Built-in sample standard deviation\n",
    "sample_stddev = date_filtered_df['transactions'].std()\n",
    "\n",
    "# Print the sample standard deviation\n",
    "print(f\"Sample Standard Deviation (stdev.s): {sample_stddev}\")"
   ]
  },
  {
   "cell_type": "markdown",
   "id": "90439dbd-5611-4370-9282-4d5139e735b1",
   "metadata": {},
   "source": [
    "### Error (store number 45):"
   ]
  },
  {
   "cell_type": "code",
   "execution_count": 27,
   "id": "a4bbb623-bb3b-4a0f-804a-9e728eaaab19",
   "metadata": {},
   "outputs": [
    {
     "name": "stdout",
     "output_type": "stream",
     "text": [
      "Error (store 45): 361      -429.468862\n",
      "407     -1000.468862\n",
      "453      -614.468862\n",
      "499       229.531138\n",
      "545       647.531138\n",
      "            ...     \n",
      "83262     604.531138\n",
      "83316     296.531138\n",
      "83370     356.531138\n",
      "83424      45.531138\n",
      "83478     -12.468862\n",
      "Name: transactions, Length: 1670, dtype: float64\n"
     ]
    }
   ],
   "source": [
    "# Calculate the mean of transactions for store 45\n",
    "mean_value_store_45 = store_45_df['transactions'].mean()\n",
    "\n",
    "# Calculate error (difference from the mean)\n",
    "errors_store_45 = store_45_df['transactions'] - mean_value_store_45\n",
    "\n",
    "# Print the errors for store 45\n",
    "print(f\"Error (store 45): {errors_store_45}\")"
   ]
  },
  {
   "cell_type": "markdown",
   "id": "f7c2d644-b842-43fe-a001-d1bd61d59ad6",
   "metadata": {},
   "source": [
    "### Squared Error (store number 45):"
   ]
  },
  {
   "cell_type": "code",
   "execution_count": 28,
   "id": "ef96b65e-8171-4ef5-92b8-328bec0ce143",
   "metadata": {},
   "outputs": [
    {
     "name": "stdout",
     "output_type": "stream",
     "text": [
      "Squared Errors (store 45): 361      1.844435e+05\n",
      "407      1.000938e+06\n",
      "453      3.775720e+05\n",
      "499      5.268454e+04\n",
      "545      4.192966e+05\n",
      "             ...     \n",
      "83262    3.654579e+05\n",
      "83316    8.793072e+04\n",
      "83370    1.271145e+05\n",
      "83424    2.073085e+03\n",
      "83478    1.554725e+02\n",
      "Name: transactions, Length: 1670, dtype: float64\n"
     ]
    }
   ],
   "source": [
    "# Calculate squared error (errors squared)\n",
    "squared_errors_store_45 = errors_store_45 ** 2\n",
    "\n",
    "# Print the squared errors for store 45\n",
    "print(f\"Squared Errors (store 45): {squared_errors_store_45}\")"
   ]
  },
  {
   "cell_type": "markdown",
   "id": "4f26d0fa-81db-480c-af77-b1addd8a0cf3",
   "metadata": {},
   "source": [
    "### Variance (long way, store number 45):"
   ]
  },
  {
   "cell_type": "code",
   "execution_count": 29,
   "id": "d183bb7d-4a16-40d2-921b-29d31abbd8f0",
   "metadata": {},
   "outputs": [
    {
     "name": "stdout",
     "output_type": "stream",
     "text": [
      "Variance (long way, store 45): 477044.54124601104\n"
     ]
    }
   ],
   "source": [
    "# Calculate variance (long way) - average of squared errors\n",
    "variance_long_way_store_45 = squared_errors_store_45.mean()\n",
    "\n",
    "# Print the variance for store 45\n",
    "print(f\"Variance (long way, store 45): {variance_long_way_store_45}\")"
   ]
  },
  {
   "cell_type": "markdown",
   "id": "d71a5052-25c3-49bd-905f-d68ee883750e",
   "metadata": {},
   "source": [
    "### Standard Deviation (long way, store number 45):"
   ]
  },
  {
   "cell_type": "code",
   "execution_count": 30,
   "id": "17e4f12b-209e-485e-8b53-0a795947a8ab",
   "metadata": {},
   "outputs": [
    {
     "name": "stdout",
     "output_type": "stream",
     "text": [
      "Standard Deviation (long way, store 45): 690.6841110420964\n"
     ]
    }
   ],
   "source": [
    "# Calculate standard deviation (long way) - square root of variance\n",
    "stddev_long_way_store_45 = np.sqrt(variance_long_way_store_45)\n",
    "\n",
    "# Print the standard deviation for store 45\n",
    "print(f\"Standard Deviation (long way, store 45): {stddev_long_way_store_45}\")"
   ]
  },
  {
   "cell_type": "markdown",
   "id": "d8844a9f-e0c4-43d0-8dd4-aded385a263f",
   "metadata": {},
   "source": [
    "### Sample Variance (var.s, store number 45):"
   ]
  },
  {
   "cell_type": "code",
   "execution_count": 31,
   "id": "6bb2c318-5044-4eb9-9581-e03ee7022135",
   "metadata": {},
   "outputs": [
    {
     "name": "stdout",
     "output_type": "stream",
     "text": [
      "Sample Variance (var.s, store 45): 477330.367813564\n"
     ]
    }
   ],
   "source": [
    "# Built-in sample variance for store 45\n",
    "sample_variance_store_45 = store_45_df['transactions'].var()\n",
    "\n",
    "# Print the sample variance for store 45\n",
    "print(f\"Sample Variance (var.s, store 45): {sample_variance_store_45}\")"
   ]
  },
  {
   "cell_type": "markdown",
   "id": "17547bdc-b7cb-4fa8-ac03-d38af332ddba",
   "metadata": {},
   "source": [
    "### Sample Standard Deviation (stdev.s, store number 45):"
   ]
  },
  {
   "cell_type": "code",
   "execution_count": 32,
   "id": "3218c585-b380-4b2e-a1aa-a9e2fb985558",
   "metadata": {},
   "outputs": [
    {
     "name": "stdout",
     "output_type": "stream",
     "text": [
      "Sample Standard Deviation (stdev.s, store 45): 690.8909956089774\n"
     ]
    }
   ],
   "source": [
    "# Built-in sample standard deviation for store 45\n",
    "sample_stddev_store_45 = store_45_df['transactions'].std()\n",
    "\n",
    "# Print the sample standard deviation for store 45\n",
    "print(f\"Sample Standard Deviation (stdev.s, store 45): {sample_stddev_store_45}\")"
   ]
  },
  {
   "cell_type": "markdown",
   "id": "3bfb2690-c716-4991-af51-2f43ee7e7006",
   "metadata": {},
   "source": [
    "### All transactions dates within the date range"
   ]
  },
  {
   "cell_type": "code",
   "execution_count": 33,
   "id": "e4ac16a4-1246-424d-8034-5007dfa487c0",
   "metadata": {},
   "outputs": [
    {
     "name": "stdout",
     "output_type": "stream",
     "text": [
      "Mean Date (Ordinal): 735742.0341850538\n",
      "Error (Date): 323     -865.034185\n",
      "324     -865.034185\n",
      "325     -865.034185\n",
      "326     -865.034185\n",
      "327     -865.034185\n",
      "            ...    \n",
      "83483    813.965815\n",
      "83484    813.965815\n",
      "83485    813.965815\n",
      "83486    813.965815\n",
      "83487    813.965815\n",
      "Name: date_ordinal, Length: 83165, dtype: float64\n",
      "Squared Errors (Date): 323      748284.141312\n",
      "324      748284.141312\n",
      "325      748284.141312\n",
      "326      748284.141312\n",
      "327      748284.141312\n",
      "             ...      \n",
      "83483    662540.347901\n",
      "83484    662540.347901\n",
      "83485    662540.347901\n",
      "83486    662540.347901\n",
      "83487    662540.347901\n",
      "Name: date_ordinal, Length: 83165, dtype: float64\n",
      "Variance (long way, Date): 235207.51546698602\n",
      "Standard Deviation (long way, Date): 484.98197437326064\n",
      "Sample Variance (var.s, Date): 235210.34370414956\n",
      "Sample Standard Deviation (stdev.s, Date): 484.9848901812814\n"
     ]
    }
   ],
   "source": [
    "# Convert the 'date' column to datetime if not done already\n",
    "df['date'] = pd.to_datetime(df['date'], format='%d/%m/%Y')\n",
    "\n",
    "# Filter the DataFrame for the specified date range\n",
    "date_filtered_df = df[(df['date'] >= '2013-01-09') & (df['date'] <= '2017-12-23')].copy()\n",
    "\n",
    "# Convert 'date' to ordinal (numeric representation) using .loc to avoid the warning\n",
    "date_filtered_df.loc[:, 'date_ordinal'] = date_filtered_df['date'].apply(lambda x: x.toordinal())\n",
    "\n",
    "# Calculate the mean of date_ordinal\n",
    "mean_date = date_filtered_df['date_ordinal'].mean()\n",
    "\n",
    "# Calculate error (difference from the mean)\n",
    "date_errors = date_filtered_df['date_ordinal'] - mean_date\n",
    "\n",
    "# Calculate squared error (errors squared)\n",
    "date_squared_errors = date_errors ** 2\n",
    "\n",
    "# Calculate variance (long way) - average of squared errors\n",
    "variance_long_way_date = date_squared_errors.mean()\n",
    "\n",
    "# Calculate standard deviation (long way) - square root of variance\n",
    "stddev_long_way_date = np.sqrt(variance_long_way_date)\n",
    "\n",
    "# Built-in sample variance and sample standard deviation\n",
    "sample_variance_date = date_filtered_df['date_ordinal'].var()  # var.s\n",
    "sample_stddev_date = date_filtered_df['date_ordinal'].std()    # stdev.s\n",
    "\n",
    "# Print the results for dates within the date range\n",
    "print(f\"Mean Date (Ordinal): {mean_date}\")\n",
    "print(f\"Error (Date): {date_errors}\")\n",
    "print(f\"Squared Errors (Date): {date_squared_errors}\")\n",
    "print(f\"Variance (long way, Date): {variance_long_way_date}\")\n",
    "print(f\"Standard Deviation (long way, Date): {stddev_long_way_date}\")\n",
    "print(f\"Sample Variance (var.s, Date): {sample_variance_date}\")\n",
    "print(f\"Sample Standard Deviation (stdev.s, Date): {sample_stddev_date}\")"
   ]
  },
  {
   "cell_type": "markdown",
   "id": "7412cb21-3e36-4576-b3b2-bf82f95015eb",
   "metadata": {},
   "source": [
    "### Store number 45 dates within the date range (09/01/2013 to 23/12/2017):"
   ]
  },
  {
   "cell_type": "code",
   "execution_count": 34,
   "id": "fcaf1a9a-cdea-40a8-a66e-cd7604efee22",
   "metadata": {},
   "outputs": [
    {
     "name": "stdout",
     "output_type": "stream",
     "text": [
      "Mean Date (Ordinal, store 45): 735715.9047904192\n",
      "Error (Date, store 45): 361     -838.90479\n",
      "407     -837.90479\n",
      "453     -836.90479\n",
      "499     -835.90479\n",
      "545     -834.90479\n",
      "           ...    \n",
      "83262    836.09521\n",
      "83316    837.09521\n",
      "83370    838.09521\n",
      "83424    839.09521\n",
      "83478    840.09521\n",
      "Name: date_ordinal, Length: 1670, dtype: float64\n",
      "Squared Errors (Date, store 45): 361      703761.247388\n",
      "407      702084.437807\n",
      "453      700409.628227\n",
      "499      698736.818646\n",
      "545      697066.009065\n",
      "             ...      \n",
      "83262    699055.199484\n",
      "83316    700728.389903\n",
      "83370    702403.580322\n",
      "83424    704080.770742\n",
      "83478    705759.961161\n",
      "Name: date_ordinal, Length: 1670, dtype: float64\n",
      "Variance (long way, Date, store 45): 235715.70291118362\n",
      "Standard Deviation (long way, Date, store 45): 485.5056157359909\n",
      "Sample Variance (var.s, Date, store 45): 235856.934608554\n",
      "Sample Standard Deviation (stdev.s, Date, store 45): 485.65104201324846\n"
     ]
    }
   ],
   "source": [
    "# Filter the DataFrame for store_nbr 45 and within the specified date range\n",
    "store_45_df = df[(df['store_nbr'] == 45) & (df['date'] >= '2013-01-09') & (df['date'] <= '2017-12-23')].copy()\n",
    "\n",
    "# Convert 'date' to ordinal (numeric representation) using .loc to avoid the warning\n",
    "store_45_df.loc[:, 'date_ordinal'] = store_45_df['date'].apply(lambda x: x.toordinal())\n",
    "\n",
    "# Calculate the mean of date_ordinal for store 45\n",
    "mean_date_store_45 = store_45_df['date_ordinal'].mean()\n",
    "\n",
    "# Calculate error (difference from the mean)\n",
    "date_errors_store_45 = store_45_df['date_ordinal'] - mean_date_store_45\n",
    "\n",
    "# Calculate squared error (errors squared)\n",
    "date_squared_errors_store_45 = date_errors_store_45 ** 2\n",
    "\n",
    "# Calculate variance (long way) - average of squared errors\n",
    "variance_long_way_date_store_45 = date_squared_errors_store_45.mean()\n",
    "\n",
    "# Calculate standard deviation (long way) - square root of variance\n",
    "stddev_long_way_date_store_45 = np.sqrt(variance_long_way_date_store_45)\n",
    "\n",
    "# Built-in sample variance and sample standard deviation\n",
    "sample_variance_date_store_45 = store_45_df['date_ordinal'].var()  # var.s\n",
    "sample_stddev_date_store_45 = store_45_df['date_ordinal'].std()    # stdev.s\n",
    "\n",
    "# Print the results for store_nbr 45 dates within the date range\n",
    "print(f\"Mean Date (Ordinal, store 45): {mean_date_store_45}\")\n",
    "print(f\"Error (Date, store 45): {date_errors_store_45}\")\n",
    "print(f\"Squared Errors (Date, store 45): {date_squared_errors_store_45}\")\n",
    "print(f\"Variance (long way, Date, store 45): {variance_long_way_date_store_45}\")\n",
    "print(f\"Standard Deviation (long way, Date, store 45): {stddev_long_way_date_store_45}\")\n",
    "print(f\"Sample Variance (var.s, Date, store 45): {sample_variance_date_store_45}\")\n",
    "print(f\"Sample Standard Deviation (stdev.s, Date, store 45): {sample_stddev_date_store_45}\")"
   ]
  },
  {
   "cell_type": "markdown",
   "id": "c48c708e-7c5c-4e0a-b03f-7ce2d8b356c1",
   "metadata": {},
   "source": [
    "### Central Limit Theorem"
   ]
  },
  {
   "cell_type": "markdown",
   "id": "aaf251ee-5793-45d3-8a1d-91a8c0450b76",
   "metadata": {},
   "source": [
    "### CLT for All Transactions (Sample Size 30):"
   ]
  },
  {
   "cell_type": "code",
   "execution_count": 35,
   "id": "6b7ab7a4-55c7-4e4b-a41e-ce6995d0e1e5",
   "metadata": {},
   "outputs": [
    {
     "data": {
      "image/png": "[encoded data removed]",
      "text/plain": [
       "<Figure size 640x480 with 1 Axes>"
      ]
     },
     "metadata": {},
     "output_type": "display_data"
    },
    {
     "name": "stdout",
     "output_type": "stream",
     "text": [
      "Mean of sample means (all transactions): 1694.7409333333333\n",
      "Standard deviation of sample means (all transactions): 175.36494913312129\n"
     ]
    }
   ],
   "source": [
    "import matplotlib.pyplot as plt\n",
    "\n",
    "# Sample size and number of iterations\n",
    "sample_size = 30\n",
    "num_samples = 1000\n",
    "\n",
    "# Collect the sample means for all transactions\n",
    "sample_means_all_transactions = []\n",
    "\n",
    "# Perform sampling\n",
    "for _ in range(num_samples):\n",
    "    sample = df['transactions'].sample(sample_size, replace=True)  # Sample with replacement\n",
    "    sample_means_all_transactions.append(sample.mean())\n",
    "\n",
    "# Convert to a NumPy array\n",
    "sample_means_all_transactions = np.array(sample_means_all_transactions)\n",
    "\n",
    "# Plot the distribution of sample means\n",
    "plt.hist(sample_means_all_transactions, bins=30, edgecolor='black', alpha=0.7)\n",
    "plt.title('Distribution of Sample Means (All Transactions)')\n",
    "plt.xlabel('Sample Mean')\n",
    "plt.ylabel('Frequency')\n",
    "plt.show()\n",
    "\n",
    "# Print the mean and standard deviation of the sample means\n",
    "print(f\"Mean of sample means (all transactions): {np.mean(sample_means_all_transactions)}\")\n",
    "print(f\"Standard deviation of sample means (all transactions): {np.std(sample_means_all_transactions)}\")"
   ]
  },
  {
   "cell_type": "markdown",
   "id": "2a03185b-99eb-4efb-8bc6-e1a6260f7699",
   "metadata": {},
   "source": [
    "### CLT for All Transactions (Sample Size 10000):"
   ]
  },
  {
   "cell_type": "code",
   "execution_count": 36,
   "id": "10f7ad3e-bd56-41eb-b29a-65ec63156584",
   "metadata": {},
   "outputs": [
    {
     "data": {
      "image/png": "[encoded data removed]",
      "text/plain": [
       "<Figure size 640x480 with 1 Axes>"
      ]
     },
     "metadata": {},
     "output_type": "display_data"
    },
    {
     "name": "stdout",
     "output_type": "stream",
     "text": [
      "Mean of sample means (all transactions): 1695.0153630000002\n",
      "Standard deviation of sample means (all transactions): 9.323909541881614\n"
     ]
    }
   ],
   "source": [
    "import matplotlib.pyplot as plt\n",
    "\n",
    "# Sample size and number of iterations\n",
    "sample_size = 10000\n",
    "num_samples = 1000\n",
    "\n",
    "# Collect the sample means for all transactions\n",
    "sample_means_all_transactions = []\n",
    "\n",
    "# Perform sampling\n",
    "for _ in range(num_samples):\n",
    "    sample = df['transactions'].sample(sample_size, replace=True)  # Sample with replacement\n",
    "    sample_means_all_transactions.append(sample.mean())\n",
    "\n",
    "# Convert to a NumPy array\n",
    "sample_means_all_transactions = np.array(sample_means_all_transactions)\n",
    "\n",
    "# Plot the distribution of sample means\n",
    "plt.hist(sample_means_all_transactions, bins=30, edgecolor='black', alpha=0.7)\n",
    "plt.title('Distribution of Sample Means (All Transactions)')\n",
    "plt.xlabel('Sample Mean')\n",
    "plt.ylabel('Frequency')\n",
    "plt.show()\n",
    "\n",
    "# Print the mean and standard deviation of the sample means\n",
    "print(f\"Mean of sample means (all transactions): {np.mean(sample_means_all_transactions)}\")\n",
    "print(f\"Standard deviation of sample means (all transactions): {np.std(sample_means_all_transactions)}\")"
   ]
  },
  {
   "cell_type": "markdown",
   "id": "edbe7ff2-e719-4e26-a87d-ca0e862fdbb0",
   "metadata": {},
   "source": [
    "### CLT for Store 45 Transactions (Sample Size 30):"
   ]
  },
  {
   "cell_type": "code",
   "execution_count": 37,
   "id": "b4d18faf-d9cc-4cd4-b746-03afd20fd081",
   "metadata": {},
   "outputs": [
    {
     "data": {
      "image/png": "[encoded data removed]",
      "text/plain": [
       "<Figure size 640x480 with 1 Axes>"
      ]
     },
     "metadata": {},
     "output_type": "display_data"
    },
    {
     "name": "stdout",
     "output_type": "stream",
     "text": [
      "Mean of sample means (store 45 transactions): 3697.5369066000003\n",
      "Standard deviation of sample means (store 45 transactions): 7.1094357530479515\n"
     ]
    }
   ],
   "source": [
    "# Filter the DataFrame for store_nbr 45\n",
    "store_45_df = df[df['store_nbr'] == 45]\n",
    "\n",
    "# Collect the sample means for store_nbr 45 transactions\n",
    "sample_means_store_45 = []\n",
    "\n",
    "# Perform sampling\n",
    "for _ in range(num_samples):\n",
    "    sample = store_45_df['transactions'].sample(sample_size, replace=True)\n",
    "    sample_means_store_45.append(sample.mean())\n",
    "\n",
    "# Convert to a NumPy array\n",
    "sample_means_store_45 = np.array(sample_means_store_45)\n",
    "\n",
    "# Plot the distribution of sample means\n",
    "plt.hist(sample_means_store_45, bins=100, edgecolor='black', alpha=0.7)\n",
    "plt.title('Distribution of Sample Means (Store 45 Transactions)')\n",
    "plt.xlabel('Sample Mean')\n",
    "plt.ylabel('Frequency')\n",
    "plt.show()\n",
    "\n",
    "# Print the mean and standard deviation of the sample means\n",
    "print(f\"Mean of sample means (store 45 transactions): {np.mean(sample_means_store_45)}\")\n",
    "print(f\"Standard deviation of sample means (store 45 transactions): {np.std(sample_means_store_45)}\")"
   ]
  },
  {
   "cell_type": "markdown",
   "id": "f2cd3953-7fc8-4302-b0e4-f51707fa5917",
   "metadata": {},
   "source": [
    "### CLT for Store 45 Transactions within a Specific Date Range (Sample Size 30):"
   ]
  },
  {
   "cell_type": "code",
   "execution_count": 40,
   "id": "83aeda06-678c-46e9-936f-36bd306cf167",
   "metadata": {},
   "outputs": [
    {
     "data": {
      "image/png": "[encoded data removed]",
      "text/plain": [
       "<Figure size 640x480 with 1 Axes>"
      ]
     },
     "metadata": {},
     "output_type": "display_data"
    },
    {
     "name": "stdout",
     "output_type": "stream",
     "text": [
      "Mean of sample means (store 45 transactions within date range): 3697.4829062\n",
      "Standard deviation of sample means (store 45 transactions within date range): 6.953031570309566\n"
     ]
    }
   ],
   "source": [
    "import matplotlib.pyplot as plt\n",
    "import numpy as np\n",
    "\n",
    "# Filter the DataFrame for store_nbr 45 and the specific date range\n",
    "store_45_date_filtered_df = store_45_df[(store_45_df['date'] >= '2013-01-09') & (store_45_df['date'] <= '2017-12-23')]\n",
    "\n",
    "# Collect the sample means for store_nbr 45 transactions within the date range\n",
    "sample_means_store_45_date = []\n",
    "\n",
    "# Perform sampling\n",
    "for _ in range(num_samples):\n",
    "    sample = store_45_date_filtered_df['transactions'].sample(sample_size, replace=True)\n",
    "    sample_means_store_45_date.append(sample.mean())\n",
    "\n",
    "# Convert to a NumPy array\n",
    "sample_means_store_45_date = np.array(sample_means_store_45_date)\n",
    "\n",
    "# Plot the distribution of sample means\n",
    "plt.hist(sample_means_store_45_date, bins=30, density=True, alpha=0.6, color='b', edgecolor='black')\n",
    "plt.title('Distribution of Sample Means (Store 45 Transactions within Date Range)')\n",
    "plt.xlabel('Sample Mean')\n",
    "plt.ylabel('Frequency')\n",
    "plt.show()\n",
    "\n",
    "# Print the mean and standard deviation of the sample means\n",
    "print(f\"Mean of sample means (store 45 transactions within date range): {np.mean(sample_means_store_45_date)}\")\n",
    "print(f\"Standard deviation of sample means (store 45 transactions within date range): {np.std(sample_means_store_45_date)}\")\n"
   ]
  },
  {
   "cell_type": "markdown",
   "id": "d2f87bee-7e9f-40eb-a409-40f71b1751c2",
   "metadata": {},
   "source": [
    "### Analyzing Data Using Samples"
   ]
  },
  {
   "cell_type": "markdown",
   "id": "b42117ee-99b9-4f13-99a9-02fb38b308df",
   "metadata": {},
   "source": [
    "### Sample Margin of Error"
   ]
  },
  {
   "cell_type": "markdown",
   "id": "1c4d95fc-b32f-4e53-bc7b-e7990fef62ff",
   "metadata": {},
   "source": [
    "### Margin of Error for All Transactions:"
   ]
  },
  {
   "cell_type": "code",
   "execution_count": 42,
   "id": "c26697ed-b6b8-419f-9dec-6d31f6310c84",
   "metadata": {},
   "outputs": [
    {
     "name": "stdout",
     "output_type": "stream",
     "text": [
      "Standard Deviation (All Transactions): 963.2866435167256\n",
      "Sample Size (All Transactions): 83488\n",
      "Standard Error (All Transactions): 3.3338304571727635\n",
      "Margin of Error (All Transactions): 6.534307696058616\n"
     ]
    }
   ],
   "source": [
    "import numpy as np\n",
    "\n",
    "# Calculate the sample standard deviation (sigma)\n",
    "sigma_all_transactions = df['transactions'].std()\n",
    "\n",
    "# Sample size (n)\n",
    "n_all_transactions = len(df['transactions'])\n",
    "\n",
    "# Z-score for 95% confidence level\n",
    "z = 1.96\n",
    "\n",
    "# Standard Error (SE)\n",
    "standard_error_all_transactions = sigma_all_transactions / np.sqrt(n_all_transactions)\n",
    "\n",
    "# Margin of Error\n",
    "margin_of_error_all_transactions = z * standard_error_all_transactions\n",
    "\n",
    "# Print results\n",
    "print(f\"Standard Deviation (All Transactions): {sigma_all_transactions}\")\n",
    "print(f\"Sample Size (All Transactions): {n_all_transactions}\")\n",
    "print(f\"Standard Error (All Transactions): {standard_error_all_transactions}\")\n",
    "print(f\"Margin of Error (All Transactions): {margin_of_error_all_transactions}\")"
   ]
  },
  {
   "cell_type": "markdown",
   "id": "d5088d35-7243-49f9-acc0-5e1da10aa37d",
   "metadata": {},
   "source": [
    "### Margin of Error for All Transactions with All Z-Scores:"
   ]
  },
  {
   "cell_type": "code",
   "execution_count": 43,
   "id": "5143dfe1-9e51-4448-9e05-b399a095ac91",
   "metadata": {},
   "outputs": [
    {
     "name": "stdout",
     "output_type": "stream",
     "text": [
      "Confidence Level: 80%\n",
      "Margin of Error (All Transactions): 4.2673029851811375\n",
      "\n",
      "Confidence Level: 90%\n",
      "Margin of Error (All Transactions): 5.484151102049196\n",
      "\n",
      "Confidence Level: 95%\n",
      "Margin of Error (All Transactions): 6.534307696058616\n",
      "\n",
      "Confidence Level: 98%\n",
      "Margin of Error (All Transactions): 7.767824965212539\n",
      "\n",
      "Confidence Level: 99%\n",
      "Margin of Error (All Transactions): 8.60128257950573\n",
      "\n"
     ]
    }
   ],
   "source": [
    "# Z-scores for different confidence levels\n",
    "z_scores = [1.28, 1.645, 1.96, 2.33, 2.58]\n",
    "confidence_levels = [80, 90, 95, 98, 99]\n",
    "\n",
    "# Calculate the sample standard deviation (sigma)\n",
    "sigma_all_transactions = df['transactions'].std()\n",
    "\n",
    "# Sample size (n)\n",
    "n_all_transactions = len(df['transactions'])\n",
    "\n",
    "# Calculate the standard error\n",
    "standard_error_all_transactions = sigma_all_transactions / np.sqrt(n_all_transactions)\n",
    "\n",
    "# Calculate and print margin of error for each confidence level\n",
    "for z, confidence in zip(z_scores, confidence_levels):\n",
    "    margin_of_error_all_transactions = z * standard_error_all_transactions\n",
    "    print(f\"Confidence Level: {confidence}%\")\n",
    "    print(f\"Margin of Error (All Transactions): {margin_of_error_all_transactions}\\n\")"
   ]
  },
  {
   "cell_type": "markdown",
   "id": "29b16be1-90e0-42a0-a1fe-0da7f9141833",
   "metadata": {},
   "source": [
    "### Margin of Error for Transactions within Specific Date Range with All Z-Scores:"
   ]
  },
  {
   "cell_type": "code",
   "execution_count": 44,
   "id": "7d25919d-4865-40de-8915-92528561529b",
   "metadata": {},
   "outputs": [
    {
     "name": "stdout",
     "output_type": "stream",
     "text": [
      "Confidence Level: 80%\n",
      "Margin of Error (Transactions within Date Range): 4.274848988212436\n",
      "\n",
      "Confidence Level: 90%\n",
      "Margin of Error (Transactions within Date Range): 5.493848895007388\n",
      "\n",
      "Confidence Level: 95%\n",
      "Margin of Error (Transactions within Date Range): 6.5458625132002926\n",
      "\n",
      "Confidence Level: 98%\n",
      "Margin of Error (Transactions within Date Range): 7.781561048855449\n",
      "\n",
      "Confidence Level: 99%\n",
      "Margin of Error (Transactions within Date Range): 8.61649249186569\n",
      "\n"
     ]
    }
   ],
   "source": [
    "# Filter the DataFrame for the specific date range\n",
    "date_filtered_df = df[(df['date'] >= '2013-01-09') & (df['date'] <= '2017-12-23')]\n",
    "\n",
    "# Calculate the sample standard deviation (sigma)\n",
    "sigma_transactions_date = date_filtered_df['transactions'].std()\n",
    "\n",
    "# Sample size (n)\n",
    "n_transactions_date = len(date_filtered_df['transactions'])\n",
    "\n",
    "# Calculate the standard error\n",
    "standard_error_transactions_date = sigma_transactions_date / np.sqrt(n_transactions_date)\n",
    "\n",
    "# Calculate and print margin of error for each confidence level\n",
    "for z, confidence in zip(z_scores, confidence_levels):\n",
    "    margin_of_error_transactions_date = z * standard_error_transactions_date\n",
    "    print(f\"Confidence Level: {confidence}%\")\n",
    "    print(f\"Margin of Error (Transactions within Date Range): {margin_of_error_transactions_date}\\n\")"
   ]
  },
  {
   "cell_type": "markdown",
   "id": "64055240-c767-404e-a9e6-d981e4169ee2",
   "metadata": {},
   "source": [
    "### Margin of Error for Store 45 Transactions with All Z-Scores:"
   ]
  },
  {
   "cell_type": "code",
   "execution_count": 45,
   "id": "a9e60c2c-8ed1-495b-ab62-9ffb2d3fbc7a",
   "metadata": {},
   "outputs": [
    {
     "name": "stdout",
     "output_type": "stream",
     "text": [
      "Confidence Level: 80%\n",
      "Margin of Error (Store 45 Transactions): 21.574387876866087\n",
      "\n",
      "Confidence Level: 90%\n",
      "Margin of Error (Store 45 Transactions): 27.72645941987868\n",
      "\n",
      "Confidence Level: 95%\n",
      "Margin of Error (Store 45 Transactions): 33.035781436451195\n",
      "\n",
      "Confidence Level: 98%\n",
      "Margin of Error (Store 45 Transactions): 39.2721279321078\n",
      "\n",
      "Confidence Level: 99%\n",
      "Margin of Error (Store 45 Transactions): 43.4858755643082\n",
      "\n"
     ]
    }
   ],
   "source": [
    "# Filter the DataFrame for store_nbr 45\n",
    "store_45_df = df[df['store_nbr'] == 45]\n",
    "\n",
    "# Calculate the sample standard deviation (sigma)\n",
    "sigma_store_45 = store_45_df['transactions'].std()\n",
    "\n",
    "# Sample size (n)\n",
    "n_store_45 = len(store_45_df['transactions'])\n",
    "\n",
    "# Calculate the standard error\n",
    "standard_error_store_45 = sigma_store_45 / np.sqrt(n_store_45)\n",
    "\n",
    "# Calculate and print margin of error for each confidence level\n",
    "for z, confidence in zip(z_scores, confidence_levels):\n",
    "    margin_of_error_store_45 = z * standard_error_store_45\n",
    "    print(f\"Confidence Level: {confidence}%\")\n",
    "    print(f\"Margin of Error (Store 45 Transactions): {margin_of_error_store_45}\\n\")"
   ]
  },
  {
   "cell_type": "markdown",
   "id": "2e9a6460-3b50-440a-ae96-307d22a1b1ee",
   "metadata": {},
   "source": [
    "### Margin of Error for Store 45 Transactions within Specific Date Range with All Z-Scores:"
   ]
  },
  {
   "cell_type": "code",
   "execution_count": 46,
   "id": "8f2dbb3e-561e-4771-be8e-21524b774a4a",
   "metadata": {},
   "outputs": [
    {
     "name": "stdout",
     "output_type": "stream",
     "text": [
      "Confidence Level: 80%\n",
      "Margin of Error (Store 45 Transactions within Date Range): 21.640199820678372\n",
      "\n",
      "Confidence Level: 90%\n",
      "Margin of Error (Store 45 Transactions within Date Range): 27.81103805079369\n",
      "\n",
      "Confidence Level: 95%\n",
      "Margin of Error (Store 45 Transactions within Date Range): 33.136555975413756\n",
      "\n",
      "Confidence Level: 98%\n",
      "Margin of Error (Store 45 Transactions within Date Range): 39.3919262360786\n",
      "\n",
      "Confidence Level: 99%\n",
      "Margin of Error (Store 45 Transactions within Date Range): 43.618527763554845\n",
      "\n"
     ]
    }
   ],
   "source": [
    "# Filter the DataFrame for store_nbr 45 and the specific date range\n",
    "store_45_date_filtered_df = store_45_df[(store_45_df['date'] >= '2013-01-09') & (store_45_df['date'] <= '2017-12-23')]\n",
    "\n",
    "# Calculate the sample standard deviation (sigma)\n",
    "sigma_store_45_date = store_45_date_filtered_df['transactions'].std()\n",
    "\n",
    "# Sample size (n)\n",
    "n_store_45_date = len(store_45_date_filtered_df['transactions'])\n",
    "\n",
    "# Calculate the standard error\n",
    "standard_error_store_45_date = sigma_store_45_date / np.sqrt(n_store_45_date)\n",
    "\n",
    "# Calculate and print margin of error for each confidence level\n",
    "for z, confidence in zip(z_scores, confidence_levels):\n",
    "    margin_of_error_store_45_date = z * standard_error_store_45_date\n",
    "    print(f\"Confidence Level: {confidence}%\")\n",
    "    print(f\"Margin of Error (Store 45 Transactions within Date Range): {margin_of_error_store_45_date}\\n\")"
   ]
  },
  {
   "cell_type": "markdown",
   "id": "ef587b1b-0c88-436d-a3ee-c5df44c4e8ce",
   "metadata": {},
   "source": [
    "## Outputs\n",
    "### 1. **Descriptive Statistics**\n",
    "- Mean, Median, Mode, Min, Max, Quartiles (Q1, Q2/Median, Q3) for all transactions and transactions for Store 45.\n",
    "- Example Results:\n",
    "  - **All Transactions**:\n",
    "    - Mean: `1694.60`, Median: `1393.0`, Mode: `1207`.\n",
    "    - Min: `5`, Max: `8359`, Q1: `1046.0`, Q3: `2079.0`.\n",
    "  - **Store 45**:\n",
    "    - Mean: `3697.74`, Median: `3515.0`, Mode: `4197`.\n",
    "    - Min: `292`, Max: `7305`, Q1: `3172.0`, Q3: `4211.0`.\n",
    "\n",
    "### 2. **Error Analysis**\n",
    "- Calculated errors (difference from the mean) and squared errors for all transactions, Store 45, and date-related analysis.\n",
    "- Example Results:\n",
    "  - Total Sum of Errors: `0` (confirming balanced dataset).\n",
    "  - Variance (All Transactions): `927,591.98`, Standard Deviation: `963.12`.\n",
    "\n",
    "### 3. **Sampling and Central Limit Theorem (CLT)**\n",
    "- Generated distributions of sample means for various sample sizes.\n",
    "- Example Results:\n",
    "  - For **All Transactions**:\n",
    "    - Sample Size `30`: Mean = `1694.74`, Std Dev = `175.36`.\n",
    "    - Sample Size `10000`: Mean = `1695.02`, Std Dev = `9.32`.\n",
    "  - For **Store 45 Transactions**:\n",
    "    - Sample Size `30`: Mean = `3697.54`, Std Dev = `7.11`.\n",
    "\n",
    "### 4. **Margin of Error and Confidence Intervals**\n",
    "- Calculated margins of error for transactions at various confidence levels (80%, 90%, 95%, 98%, 99%).\n",
    "- Example Results:\n",
    "  - For **All Transactions** (95% Confidence Level):\n",
    "    - Margin of Error: `6.53`.\n",
    "  - For **Store 45 Transactions**:\n",
    "    - Margin of Error (95% Confidence Level): `33.04`.\n",
    "\n",
    "### 5. **Date Analysis**\n",
    "- Applied statistical measures to date ranges using ordinal representations.\n",
    "- Example Results:\n",
    "  - Mean Date (Ordinal): `735742.03`.\n",
    "  - Variance: `235,207.52`, Standard Deviation: `484.98`.\n",
    "\n",
    "---\n",
    "\n",
    "## Key Takeaways\n",
    "- Statistical measures provide deep insights into the dataset, from overall trends to store-specific and date-specific behaviors.\n",
    "- Sampling and CLT validate the consistency of statistical estimates across varying sample sizes.\n",
    "- Margin of error calculations demonstrate precision levels for different confidence intervals, ensuring robust decision-making.\n",
    "- This project highlights a variety of statistical techniques, applicable to real-world retail datasets.\n",
    "\n",
    "## Focus of the Project\n",
    "The primary goal of this project is to showcase proficiency in statistical concepts and their application to analyze transactional data rather than the narrative of the dataset itself."
   ]
  },
  {
   "cell_type": "code",
   "execution_count": null,
   "id": "0878f04a-a775-4df9-af93-95a5a74e7b4a",
   "metadata": {},
   "outputs": [],
   "source": []
  }
 ],
 "metadata": {
  "kernelspec": {
   "display_name": "Python 3 (ipykernel)",
   "language": "python",
   "name": "python3"
  },
  "language_info": {
   "codemirror_mode": {
    "name": "ipython",
    "version": 3
   },
   "file_extension": ".py",
   "mimetype": "text/x-python",
   "name": "python",
   "nbconvert_exporter": "python",
   "pygments_lexer": "ipython3",
   "version": "3.12.5"
  }
 },
 "nbformat": 4,
 "nbformat_minor": 5
}
